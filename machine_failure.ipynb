{
 "cells": [
  {
   "cell_type": "markdown",
   "metadata": {},
   "source": [
    "# Machine Failure Predictions"
   ]
  },
  {
   "cell_type": "code",
   "execution_count": 129,
   "metadata": {},
   "outputs": [],
   "source": [
    "import pyspark as ps\n",
    "import csv\n",
    "import random\n",
    "import pandas as pd\n",
    "import numpy as np\n",
    "import matplotlib.pyplot as plt\n",
    "%matplotlib inline"
   ]
  },
  {
   "cell_type": "code",
   "execution_count": 130,
   "metadata": {},
   "outputs": [],
   "source": [
    "spark = (ps.sql.SparkSession.builder\n",
    "        .master(\"local[4]\")\n",
    "        .appName(\"morning sprint\")\n",
    "        .getOrCreate()\n",
    "        )\n",
    "\n",
    "sc = spark.sparkContext"
   ]
  },
  {
   "cell_type": "code",
   "execution_count": 362,
   "metadata": {},
   "outputs": [],
   "source": [
    "df = spark.read.csv('sample.csv', header=True)"
   ]
  },
  {
   "cell_type": "code",
   "execution_count": 363,
   "metadata": {},
   "outputs": [
    {
     "data": {
      "text/plain": [
       "32"
      ]
     },
     "execution_count": 363,
     "metadata": {},
     "output_type": "execute_result"
    }
   ],
   "source": [
    "df.count()"
   ]
  },
  {
   "cell_type": "code",
   "execution_count": 365,
   "metadata": {},
   "outputs": [],
   "source": [
    "train_df = spark.read.csv('train.csv', header=True)"
   ]
  },
  {
   "cell_type": "code",
   "execution_count": 366,
   "metadata": {},
   "outputs": [
    {
     "name": "stdout",
     "output_type": "stream",
     "text": [
      "+---+----------------+-----------+--------+---------+--------+--------+--------+--------+--------+--------+--------+--------+--------+---------+---------+---------+---------+---------+---------+----------------------------+-------+----------+-----------+------------------+-----------------+----------+------------+------------+\n",
      "| ID|            Date|Temperature|Humidity| Operator|Measure1|Measure2|Measure3|Measure4|Measure5|Measure6|Measure7|Measure8|Measure9|Measure10|Measure11|Measure12|Measure13|Measure14|Measure15|Hours Since Previous Failure|Failure|?Date.year|?Date.month|?Date.day-of-month|?Date.day-of-week|?Date.hour|?Date.minute|?Date.second|\n",
      "+---+----------------+-----------+--------+---------+--------+--------+--------+--------+--------+--------+--------+--------+--------+---------+---------+---------+---------+---------+---------+----------------------------+-------+----------+-----------+------------------+-----------------+----------+------------+------------+\n",
      "|  1|01-01-2016 00:00|         67|      82|Operator1|     291|       1|       1|    1041|     846|     334|     706|    1086|     256|     1295|      766|      968|     1185|     1355|     1842|                          90|     No|      2016|          1|                 1|                5|         0|           0|           0|\n",
      "|  2|01-01-2016 01:00|         68|      77|Operator1|    1180|       1|       1|    1915|    1194|     637|    1093|     524|     919|      245|      403|      723|     1446|      719|      748|                          91|     No|      2016|          1|                 1|                5|         1|           0|           0|\n",
      "|  3|01-01-2016 02:00|         64|      76|Operator1|    1406|       1|       1|     511|    1577|    1121|    1948|    1882|    1301|      273|     1927|     1123|      717|     1518|     1689|                          92|     No|      2016|          1|                 1|                5|         2|           0|           0|\n",
      "+---+----------------+-----------+--------+---------+--------+--------+--------+--------+--------+--------+--------+--------+--------+---------+---------+---------+---------+---------+---------+----------------------------+-------+----------+-----------+------------------+-----------------+----------+------------+------------+\n",
      "only showing top 3 rows\n",
      "\n"
     ]
    }
   ],
   "source": [
    "train_df.show(n=3)"
   ]
  },
  {
   "cell_type": "code",
   "execution_count": 367,
   "metadata": {},
   "outputs": [],
   "source": [
    "train_df = train_df.drop('?Date.minute', '?Date.second')"
   ]
  },
  {
   "cell_type": "code",
   "execution_count": 369,
   "metadata": {},
   "outputs": [
    {
     "name": "stdout",
     "output_type": "stream",
     "text": [
      "+-------+------------------+----------------+------------------+-----------------+---------+------------------+------------------+------------------+------------------+-----------------+------------------+------------------+-----------------+-----------------+-----------------+------------------+------------------+------------------+-----------------+-----------------+----------------------------+-------+----------+------------------+------------------+------------------+-----------------+\n",
      "|summary|                ID|            Date|       Temperature|         Humidity| Operator|          Measure1|          Measure2|          Measure3|          Measure4|         Measure5|          Measure6|          Measure7|         Measure8|         Measure9|        Measure10|         Measure11|         Measure12|         Measure13|        Measure14|        Measure15|Hours Since Previous Failure|Failure|?Date.year|       ?Date.month|?Date.day-of-month| ?Date.day-of-week|       ?Date.hour|\n",
      "+-------+------------------+----------------+------------------+-----------------+---------+------------------+------------------+------------------+------------------+-----------------+------------------+------------------+-----------------+-----------------+-----------------+------------------+------------------+------------------+-----------------+-----------------+----------------------------+-------+----------+------------------+------------------+------------------+-----------------+\n",
      "|  count|              7905|            7905|              7905|             7905|     7905|              7905|              7905|              7905|              7905|             7905|              7905|              7905|             7905|             7905|             7905|              7905|              7905|              7905|             7905|             7905|                        7905|   7905|      7905|              7905|              7905|              7905|             7905|\n",
      "|   mean|            3953.0|            null|  64.0314990512334|83.70841239721695|     null|1093.4613535736876|1.4889310562934852|1.0022770398481973|1068.7752055660974|  1075.2981657179|1077.7841872232764|1089.2642631246047|1076.061606578115|1081.998228969007|1082.090955091714|1089.2708412397217|1089.1668564199874|1074.6044275774825|1091.156356736243|1083.807716635041|           210.3224541429475|   null|    2016.0| 5.920683111954459|15.530550284629982|4.0011385199240985|11.49146110056926|\n",
      "| stddev|2282.1212719748264|            null|2.8850084711441077|4.824696223151853|     null| 535.5191647978905|1.1149336790737858|0.8139067558056611|  535.608830230409|533.7238850791422| 533.4240141523608| 537.1387729028299|537.2397937858136|531.2659597477913|538.0586160842703| 534.7769625623008| 532.2850777187853| 535.3516658507557|536.7302284674226|536.9764809649249|          143.84606940492918|   null|       0.0|3.1158320642048998| 8.731102149802517|1.9992720636721875| 6.92385268730217|\n",
      "|    min|                 1|01-01-2016 00:00|                12|              109|Operator1|              1000|                 0|                 0|              1000|             1000|              1000|              1000|             1000|             1000|             1000|              1000|              1000|              1000|             1000|             1000|                           1|     No|      2016|                 1|                 1|                 1|                0|\n",
      "|    max|               999|31-10-2016 23:00|                78|               95|Operator8|               999|                 3|                 2|               999|              999|               999|               999|              999|              999|              999|               999|               999|               999|              999|              999|                          99|    Yes|      2016|                 9|                 9|                 7|                9|\n",
      "+-------+------------------+----------------+------------------+-----------------+---------+------------------+------------------+------------------+------------------+-----------------+------------------+------------------+-----------------+-----------------+-----------------+------------------+------------------+------------------+-----------------+-----------------+----------------------------+-------+----------+------------------+------------------+------------------+-----------------+\n",
      "\n"
     ]
    }
   ],
   "source": [
    "train_df.describe().show()"
   ]
  },
  {
   "cell_type": "code",
   "execution_count": 374,
   "metadata": {},
   "outputs": [
    {
     "data": {
      "text/plain": [
       "[('ID', 'string'),\n",
       " ('Date', 'string'),\n",
       " ('Temperature', 'string'),\n",
       " ('Humidity', 'string'),\n",
       " ('Operator', 'string'),\n",
       " ('Measure1', 'string'),\n",
       " ('Measure2', 'string'),\n",
       " ('Measure3', 'string'),\n",
       " ('Measure4', 'string'),\n",
       " ('Measure5', 'string'),\n",
       " ('Measure6', 'string'),\n",
       " ('Measure7', 'string'),\n",
       " ('Measure8', 'string'),\n",
       " ('Measure9', 'string'),\n",
       " ('Measure10', 'string'),\n",
       " ('Measure11', 'string'),\n",
       " ('Measure12', 'string'),\n",
       " ('Measure13', 'string'),\n",
       " ('Measure14', 'string'),\n",
       " ('Measure15', 'string'),\n",
       " ('Hours Since Previous Failure', 'string'),\n",
       " ('Failure', 'string'),\n",
       " ('?Date.year', 'string'),\n",
       " ('?Date.month', 'string'),\n",
       " ('?Date.day-of-month', 'string'),\n",
       " ('?Date.day-of-week', 'string'),\n",
       " ('?Date.hour', 'string')]"
      ]
     },
     "execution_count": 374,
     "metadata": {},
     "output_type": "execute_result"
    }
   ],
   "source": [
    "train_df.dtypes"
   ]
  },
  {
   "cell_type": "code",
   "execution_count": 375,
   "metadata": {},
   "outputs": [
    {
     "name": "stdout",
     "output_type": "stream",
     "text": [
      "root\n",
      " |-- ID: string (nullable = true)\n",
      " |-- Date: string (nullable = true)\n",
      " |-- Temperature: string (nullable = true)\n",
      " |-- Humidity: string (nullable = true)\n",
      " |-- Operator: string (nullable = true)\n",
      " |-- Measure1: string (nullable = true)\n",
      " |-- Measure2: string (nullable = true)\n",
      " |-- Measure3: string (nullable = true)\n",
      " |-- Measure4: string (nullable = true)\n",
      " |-- Measure5: string (nullable = true)\n",
      " |-- Measure6: string (nullable = true)\n",
      " |-- Measure7: string (nullable = true)\n",
      " |-- Measure8: string (nullable = true)\n",
      " |-- Measure9: string (nullable = true)\n",
      " |-- Measure10: string (nullable = true)\n",
      " |-- Measure11: string (nullable = true)\n",
      " |-- Measure12: string (nullable = true)\n",
      " |-- Measure13: string (nullable = true)\n",
      " |-- Measure14: string (nullable = true)\n",
      " |-- Measure15: string (nullable = true)\n",
      " |-- Hours Since Previous Failure: string (nullable = true)\n",
      " |-- Failure: string (nullable = true)\n",
      " |-- year: string (nullable = true)\n",
      " |-- month: string (nullable = true)\n",
      " |-- day_of_month: string (nullable = true)\n",
      " |-- day_of_week: string (nullable = true)\n",
      " |-- hour: string (nullable = true)\n",
      "\n",
      "+---+----------------+-----------+--------+---------+--------+--------+--------+--------+--------+--------+--------+--------+--------+---------+---------+---------+---------+---------+---------+----------------------------+-------+----+-----+------------+-----------+----+\n",
      "| ID|            Date|Temperature|Humidity| Operator|Measure1|Measure2|Measure3|Measure4|Measure5|Measure6|Measure7|Measure8|Measure9|Measure10|Measure11|Measure12|Measure13|Measure14|Measure15|Hours Since Previous Failure|Failure|year|month|day_of_month|day_of_week|hour|\n",
      "+---+----------------+-----------+--------+---------+--------+--------+--------+--------+--------+--------+--------+--------+--------+---------+---------+---------+---------+---------+---------+----------------------------+-------+----+-----+------------+-----------+----+\n",
      "|  1|01-01-2016 00:00|         67|      82|Operator1|     291|       1|       1|    1041|     846|     334|     706|    1086|     256|     1295|      766|      968|     1185|     1355|     1842|                          90|     No|2016|    1|           1|          5|   0|\n",
      "|  2|01-01-2016 01:00|         68|      77|Operator1|    1180|       1|       1|    1915|    1194|     637|    1093|     524|     919|      245|      403|      723|     1446|      719|      748|                          91|     No|2016|    1|           1|          5|   1|\n",
      "|  3|01-01-2016 02:00|         64|      76|Operator1|    1406|       1|       1|     511|    1577|    1121|    1948|    1882|    1301|      273|     1927|     1123|      717|     1518|     1689|                          92|     No|2016|    1|           1|          5|   2|\n",
      "|  4|01-01-2016 03:00|         63|      80|Operator1|     550|       1|       1|    1754|    1834|    1413|    1151|     945|    1312|     1494|     1755|     1434|      502|     1336|      711|                          93|     No|2016|    1|           1|          5|   3|\n",
      "|  5|01-01-2016 04:00|         65|      81|Operator1|    1928|       1|       2|    1326|    1082|     233|    1441|    1736|    1033|     1549|      802|     1819|     1616|     1507|      507|                          94|     No|2016|    1|           1|          5|   4|\n",
      "|  6|01-01-2016 05:00|         67|      84|Operator1|     398|       1|       2|    1901|    1801|    1153|    1085|    1547|    2005|      477|     1217|     1632|     1324|     1854|     1739|                          95|     No|2016|    1|           1|          5|   5|\n",
      "|  7|01-01-2016 06:00|         67|      83|Operator1|     847|       0|       2|    1849|    1141|    1609|     982|    1159|     672|     1128|      663|     1114|     1838|      290|     1192|                          96|     No|2016|    1|           1|          5|   6|\n",
      "|  8|01-01-2016 07:00|         67|      76|Operator1|    1021|       2|       1|     185|     170|     952|    1183|    1329|     427|     1638|      850|      379|     1529|      755|      844|                          97|     No|2016|    1|           1|          5|   7|\n",
      "|  9|01-01-2016 08:00|         65|      80|Operator3|    1731|       2|       0|    1424|    1176|    1223|     621|     647|     369|      239|     1196|     1944|     1583|     1630|      237|                          98|     No|2016|    1|           1|          5|   8|\n",
      "| 10|01-01-2016 09:00|         63|      80|Operator3|     415|       0|       0|    1008|    1086|    1759|    1946|    1814|    1754|     1442|      341|     1097|     1819|      472|      491|                          99|     No|2016|    1|           1|          5|   9|\n",
      "| 11|01-01-2016 10:00|         61|      83|Operator3|     525|       2|       2|     603|    1630|    1740|     583|     646|     319|      933|     1891|     1371|     1904|     1586|     1102|                         100|     No|2016|    1|           1|          5|  10|\n",
      "| 12|01-01-2016 11:00|         62|      81|Operator3|    1719|       3|       1|     880|     575|    1722|     952|     890|     669|      782|     1720|      641|     1620|     1046|     1759|                         101|     No|2016|    1|           1|          5|  11|\n",
      "| 13|01-01-2016 12:00|         62|      76|Operator3|    1116|       0|       0|     588|     166|    1233|    1362|     322|    1176|     1669|     1197|      182|     1641|     1033|     1427|                         102|     No|2016|    1|           1|          5|  12|\n",
      "| 14|01-01-2016 13:00|         60|      82|Operator3|     282|       1|       1|    1406|    1727|     945|    1631|     714|    1072|     1051|     1857|      559|     1309|     1668|     1453|                         103|     No|2016|    1|           1|          5|  13|\n",
      "| 15|01-01-2016 14:00|         61|      79|Operator3|     637|       3|       0|     821|     511|     373|     951|    1151|    1200|      493|      770|     1781|     1437|     1978|     1911|                         104|     No|2016|    1|           1|          5|  14|\n",
      "| 16|01-01-2016 15:00|         64|      77|Operator3|    1831|       0|       2|    1277|    1622|     662|     688|    1522|     672|      627|     1545|     1616|      832|     1127|     1597|                         105|     No|2016|    1|           1|          5|  15|\n",
      "| 17|01-01-2016 16:00|         60|      80|Operator5|    1622|       3|       2|     846|    1462|    1618|     695|    1401|     408|     1481|     1735|     1247|     1425|      903|      172|                         106|     No|2016|    1|           1|          5|  16|\n",
      "| 18|01-01-2016 17:00|         64|      85|Operator5|    1885|       3|       2|     503|     569|    1819|    1002|    1884|     171|      645|     1917|     1392|      554|     1704|      467|                         107|     No|2016|    1|           1|          5|  17|\n",
      "| 19|01-01-2016 18:00|         62|      82|Operator5|     616|       2|       2|     634|    1722|     335|    1299|    1733|    1589|     1862|     1834|     1341|     1512|      542|     1449|                         108|     No|2016|    1|           1|          5|  18|\n",
      "| 20|01-01-2016 19:00|         60|      75|Operator5|     965|       2|       0|     176|    1456|     746|    1799|    1428|    1202|     1862|     1608|     1253|      226|     1563|      505|                         109|     No|2016|    1|           1|          5|  19|\n",
      "+---+----------------+-----------+--------+---------+--------+--------+--------+--------+--------+--------+--------+--------+--------+---------+---------+---------+---------+---------+---------+----------------------------+-------+----+-----+------------+-----------+----+\n",
      "only showing top 20 rows\n",
      "\n"
     ]
    }
   ],
   "source": [
    "from functools import reduce\n",
    "dates = ['year', 'month', 'day_of_month', 'day_of_week', 'hour']\n",
    "columns = train_df.columns[:-5] + dates\n",
    "\n",
    "\n",
    "oldColumns = train_df.schema.names\n",
    "newColumns = columns\n",
    "\n",
    "df = reduce(lambda train_df, idx: train_df.withColumnRenamed(oldColumns[idx], newColumns[idx]), range(len(oldColumns)), train_df)\n",
    "df.printSchema()\n",
    "df.show()"
   ]
  },
  {
   "cell_type": "code",
   "execution_count": 376,
   "metadata": {},
   "outputs": [],
   "source": [
    "from pyspark.sql.functions import col\n",
    "to_int = df.columns[2:4] + df.columns[5:21] + df.columns[22:]\n",
    "\n",
    "df = df.select(*(col(c).cast(\"int\").alias(c) if c in to_int else col(c) for c in df.columns))"
   ]
  },
  {
   "cell_type": "code",
   "execution_count": 377,
   "metadata": {},
   "outputs": [
    {
     "name": "stdout",
     "output_type": "stream",
     "text": [
      "root\n",
      " |-- ID: string (nullable = true)\n",
      " |-- Date: string (nullable = true)\n",
      " |-- Temperature: integer (nullable = true)\n",
      " |-- Humidity: integer (nullable = true)\n",
      " |-- Operator: string (nullable = true)\n",
      " |-- Measure1: integer (nullable = true)\n",
      " |-- Measure2: integer (nullable = true)\n",
      " |-- Measure3: integer (nullable = true)\n",
      " |-- Measure4: integer (nullable = true)\n",
      " |-- Measure5: integer (nullable = true)\n",
      " |-- Measure6: integer (nullable = true)\n",
      " |-- Measure7: integer (nullable = true)\n",
      " |-- Measure8: integer (nullable = true)\n",
      " |-- Measure9: integer (nullable = true)\n",
      " |-- Measure10: integer (nullable = true)\n",
      " |-- Measure11: integer (nullable = true)\n",
      " |-- Measure12: integer (nullable = true)\n",
      " |-- Measure13: integer (nullable = true)\n",
      " |-- Measure14: integer (nullable = true)\n",
      " |-- Measure15: integer (nullable = true)\n",
      " |-- Hours Since Previous Failure: integer (nullable = true)\n",
      " |-- Failure: string (nullable = true)\n",
      " |-- year: integer (nullable = true)\n",
      " |-- month: integer (nullable = true)\n",
      " |-- day_of_month: integer (nullable = true)\n",
      " |-- day_of_week: integer (nullable = true)\n",
      " |-- hour: integer (nullable = true)\n",
      "\n"
     ]
    }
   ],
   "source": [
    "df.printSchema()"
   ]
  },
  {
   "cell_type": "code",
   "execution_count": 408,
   "metadata": {},
   "outputs": [
    {
     "name": "stdout",
     "output_type": "stream",
     "text": [
      "+---+----------------+-----------+--------+---------+--------+--------+--------+--------+--------+--------+--------+--------+--------+---------+---------+---------+---------+---------+---------+----------------------------+-------+----+-----+------------+-----------+----+\n",
      "| ID|            Date|Temperature|Humidity| Operator|Measure1|Measure2|Measure3|Measure4|Measure5|Measure6|Measure7|Measure8|Measure9|Measure10|Measure11|Measure12|Measure13|Measure14|Measure15|Hours Since Previous Failure|Failure|year|month|day_of_month|day_of_week|hour|\n",
      "+---+----------------+-----------+--------+---------+--------+--------+--------+--------+--------+--------+--------+--------+--------+---------+---------+---------+---------+---------+---------+----------------------------+-------+----+-----+------------+-----------+----+\n",
      "|  1|01-01-2016 00:00|         67|      82|Operator1|     291|       1|       1|    1041|     846|     334|     706|    1086|     256|     1295|      766|      968|     1185|     1355|     1842|                          90|     No|2016|    1|           1|          5|   0|\n",
      "|  2|01-01-2016 01:00|         68|      77|Operator1|    1180|       1|       1|    1915|    1194|     637|    1093|     524|     919|      245|      403|      723|     1446|      719|      748|                          91|     No|2016|    1|           1|          5|   1|\n",
      "|  3|01-01-2016 02:00|         64|      76|Operator1|    1406|       1|       1|     511|    1577|    1121|    1948|    1882|    1301|      273|     1927|     1123|      717|     1518|     1689|                          92|     No|2016|    1|           1|          5|   2|\n",
      "|  4|01-01-2016 03:00|         63|      80|Operator1|     550|       1|       1|    1754|    1834|    1413|    1151|     945|    1312|     1494|     1755|     1434|      502|     1336|      711|                          93|     No|2016|    1|           1|          5|   3|\n",
      "|  5|01-01-2016 04:00|         65|      81|Operator1|    1928|       1|       2|    1326|    1082|     233|    1441|    1736|    1033|     1549|      802|     1819|     1616|     1507|      507|                          94|     No|2016|    1|           1|          5|   4|\n",
      "+---+----------------+-----------+--------+---------+--------+--------+--------+--------+--------+--------+--------+--------+--------+---------+---------+---------+---------+---------+---------+----------------------------+-------+----+-----+------------+-----------+----+\n",
      "only showing top 5 rows\n",
      "\n"
     ]
    }
   ],
   "source": [
    "df.show(5)"
   ]
  },
  {
   "cell_type": "markdown",
   "metadata": {},
   "source": [
    "## Prepping data for random forest"
   ]
  },
  {
   "cell_type": "code",
   "execution_count": 409,
   "metadata": {},
   "outputs": [],
   "source": [
    "features = df.select('*').toPandas()"
   ]
  },
  {
   "cell_type": "code",
   "execution_count": 410,
   "metadata": {},
   "outputs": [],
   "source": [
    "## one hot encode 'Failure', 'Operator'\n",
    "operators = pd.get_dummies(features['Operator'])\n",
    "fail = pd.get_dummies(features['Failure'])"
   ]
  },
  {
   "cell_type": "code",
   "execution_count": 411,
   "metadata": {},
   "outputs": [],
   "source": [
    "for oper in operators.columns:\n",
    "    features[oper] = operators[oper]"
   ]
  },
  {
   "cell_type": "code",
   "execution_count": 412,
   "metadata": {},
   "outputs": [],
   "source": [
    "features = features.drop(['Operator', 'Date', 'ID'], axis=1)\n",
    "features['Failure'] = fail"
   ]
  },
  {
   "cell_type": "code",
   "execution_count": 413,
   "metadata": {},
   "outputs": [],
   "source": [
    "# Saving feature names for later use\n",
    "feature_list = list(features.columns)"
   ]
  },
  {
   "cell_type": "code",
   "execution_count": 414,
   "metadata": {},
   "outputs": [
    {
     "data": {
      "text/html": [
       "<div>\n",
       "<style scoped>\n",
       "    .dataframe tbody tr th:only-of-type {\n",
       "        vertical-align: middle;\n",
       "    }\n",
       "\n",
       "    .dataframe tbody tr th {\n",
       "        vertical-align: top;\n",
       "    }\n",
       "\n",
       "    .dataframe thead th {\n",
       "        text-align: right;\n",
       "    }\n",
       "</style>\n",
       "<table border=\"1\" class=\"dataframe\">\n",
       "  <thead>\n",
       "    <tr style=\"text-align: right;\">\n",
       "      <th></th>\n",
       "      <th>Temperature</th>\n",
       "      <th>Humidity</th>\n",
       "      <th>Measure1</th>\n",
       "      <th>Measure2</th>\n",
       "      <th>Measure3</th>\n",
       "      <th>Measure4</th>\n",
       "      <th>Measure5</th>\n",
       "      <th>Measure6</th>\n",
       "      <th>Measure7</th>\n",
       "      <th>Measure8</th>\n",
       "      <th>...</th>\n",
       "      <th>day_of_week</th>\n",
       "      <th>hour</th>\n",
       "      <th>Operator1</th>\n",
       "      <th>Operator2</th>\n",
       "      <th>Operator3</th>\n",
       "      <th>Operator4</th>\n",
       "      <th>Operator5</th>\n",
       "      <th>Operator6</th>\n",
       "      <th>Operator7</th>\n",
       "      <th>Operator8</th>\n",
       "    </tr>\n",
       "  </thead>\n",
       "  <tbody>\n",
       "    <tr>\n",
       "      <th>0</th>\n",
       "      <td>67</td>\n",
       "      <td>82</td>\n",
       "      <td>291</td>\n",
       "      <td>1</td>\n",
       "      <td>1</td>\n",
       "      <td>1041</td>\n",
       "      <td>846</td>\n",
       "      <td>334</td>\n",
       "      <td>706</td>\n",
       "      <td>1086</td>\n",
       "      <td>...</td>\n",
       "      <td>5</td>\n",
       "      <td>0</td>\n",
       "      <td>1</td>\n",
       "      <td>0</td>\n",
       "      <td>0</td>\n",
       "      <td>0</td>\n",
       "      <td>0</td>\n",
       "      <td>0</td>\n",
       "      <td>0</td>\n",
       "      <td>0</td>\n",
       "    </tr>\n",
       "    <tr>\n",
       "      <th>1</th>\n",
       "      <td>68</td>\n",
       "      <td>77</td>\n",
       "      <td>1180</td>\n",
       "      <td>1</td>\n",
       "      <td>1</td>\n",
       "      <td>1915</td>\n",
       "      <td>1194</td>\n",
       "      <td>637</td>\n",
       "      <td>1093</td>\n",
       "      <td>524</td>\n",
       "      <td>...</td>\n",
       "      <td>5</td>\n",
       "      <td>1</td>\n",
       "      <td>1</td>\n",
       "      <td>0</td>\n",
       "      <td>0</td>\n",
       "      <td>0</td>\n",
       "      <td>0</td>\n",
       "      <td>0</td>\n",
       "      <td>0</td>\n",
       "      <td>0</td>\n",
       "    </tr>\n",
       "    <tr>\n",
       "      <th>2</th>\n",
       "      <td>64</td>\n",
       "      <td>76</td>\n",
       "      <td>1406</td>\n",
       "      <td>1</td>\n",
       "      <td>1</td>\n",
       "      <td>511</td>\n",
       "      <td>1577</td>\n",
       "      <td>1121</td>\n",
       "      <td>1948</td>\n",
       "      <td>1882</td>\n",
       "      <td>...</td>\n",
       "      <td>5</td>\n",
       "      <td>2</td>\n",
       "      <td>1</td>\n",
       "      <td>0</td>\n",
       "      <td>0</td>\n",
       "      <td>0</td>\n",
       "      <td>0</td>\n",
       "      <td>0</td>\n",
       "      <td>0</td>\n",
       "      <td>0</td>\n",
       "    </tr>\n",
       "    <tr>\n",
       "      <th>3</th>\n",
       "      <td>63</td>\n",
       "      <td>80</td>\n",
       "      <td>550</td>\n",
       "      <td>1</td>\n",
       "      <td>1</td>\n",
       "      <td>1754</td>\n",
       "      <td>1834</td>\n",
       "      <td>1413</td>\n",
       "      <td>1151</td>\n",
       "      <td>945</td>\n",
       "      <td>...</td>\n",
       "      <td>5</td>\n",
       "      <td>3</td>\n",
       "      <td>1</td>\n",
       "      <td>0</td>\n",
       "      <td>0</td>\n",
       "      <td>0</td>\n",
       "      <td>0</td>\n",
       "      <td>0</td>\n",
       "      <td>0</td>\n",
       "      <td>0</td>\n",
       "    </tr>\n",
       "    <tr>\n",
       "      <th>4</th>\n",
       "      <td>65</td>\n",
       "      <td>81</td>\n",
       "      <td>1928</td>\n",
       "      <td>1</td>\n",
       "      <td>2</td>\n",
       "      <td>1326</td>\n",
       "      <td>1082</td>\n",
       "      <td>233</td>\n",
       "      <td>1441</td>\n",
       "      <td>1736</td>\n",
       "      <td>...</td>\n",
       "      <td>5</td>\n",
       "      <td>4</td>\n",
       "      <td>1</td>\n",
       "      <td>0</td>\n",
       "      <td>0</td>\n",
       "      <td>0</td>\n",
       "      <td>0</td>\n",
       "      <td>0</td>\n",
       "      <td>0</td>\n",
       "      <td>0</td>\n",
       "    </tr>\n",
       "  </tbody>\n",
       "</table>\n",
       "<p>5 rows × 32 columns</p>\n",
       "</div>"
      ],
      "text/plain": [
       "   Temperature  Humidity  Measure1  Measure2  Measure3  Measure4  Measure5  \\\n",
       "0           67        82       291         1         1      1041       846   \n",
       "1           68        77      1180         1         1      1915      1194   \n",
       "2           64        76      1406         1         1       511      1577   \n",
       "3           63        80       550         1         1      1754      1834   \n",
       "4           65        81      1928         1         2      1326      1082   \n",
       "\n",
       "   Measure6  Measure7  Measure8  ...  day_of_week  hour  Operator1  Operator2  \\\n",
       "0       334       706      1086  ...            5     0          1          0   \n",
       "1       637      1093       524  ...            5     1          1          0   \n",
       "2      1121      1948      1882  ...            5     2          1          0   \n",
       "3      1413      1151       945  ...            5     3          1          0   \n",
       "4       233      1441      1736  ...            5     4          1          0   \n",
       "\n",
       "   Operator3  Operator4  Operator5  Operator6  Operator7  Operator8  \n",
       "0          0          0          0          0          0          0  \n",
       "1          0          0          0          0          0          0  \n",
       "2          0          0          0          0          0          0  \n",
       "3          0          0          0          0          0          0  \n",
       "4          0          0          0          0          0          0  \n",
       "\n",
       "[5 rows x 32 columns]"
      ]
     },
     "execution_count": 414,
     "metadata": {},
     "output_type": "execute_result"
    }
   ],
   "source": [
    "features.head()"
   ]
  },
  {
   "cell_type": "code",
   "execution_count": 415,
   "metadata": {},
   "outputs": [],
   "source": [
    "labels = np.array(features.pop('Failure'))"
   ]
  },
  {
   "cell_type": "markdown",
   "metadata": {},
   "source": [
    "# Split data into testing and training sets"
   ]
  },
  {
   "cell_type": "code",
   "execution_count": 416,
   "metadata": {},
   "outputs": [],
   "source": [
    "from sklearn.model_selection import train_test_split\n",
    "from sklearn.preprocessing import LabelEncoder, StandardScaler\n"
   ]
  },
  {
   "cell_type": "code",
   "execution_count": 417,
   "metadata": {},
   "outputs": [
    {
     "data": {
      "text/plain": [
       "array([1, 1, 1, ..., 1, 1, 1])"
      ]
     },
     "execution_count": 417,
     "metadata": {},
     "output_type": "execute_result"
    }
   ],
   "source": [
    "## Encode labels\n",
    "encoder = LabelEncoder()\n",
    "labels = encoder.fit_transform(np.array(labels))\n",
    "labels"
   ]
  },
  {
   "cell_type": "code",
   "execution_count": 491,
   "metadata": {},
   "outputs": [],
   "source": [
    "X_train, X_test, y_train, y_test = train_test_split(features, labels, test_size=0.25)"
   ]
  },
  {
   "cell_type": "markdown",
   "metadata": {},
   "source": [
    "## I don't have access to the labels for the real training set so we'll need to do one more tts"
   ]
  },
  {
   "cell_type": "code",
   "execution_count": 492,
   "metadata": {},
   "outputs": [],
   "source": [
    "Training_Set = [X_test, y_test]\n",
    "X_train, X_val, y_train, y_val = train_test_split(X_train, y_train, test_size = 0.33)"
   ]
  },
  {
   "cell_type": "markdown",
   "metadata": {},
   "source": [
    "### We'll train on X_train, validate on x_val, test on x_test"
   ]
  },
  {
   "cell_type": "code",
   "execution_count": 493,
   "metadata": {},
   "outputs": [
    {
     "name": "stdout",
     "output_type": "stream",
     "text": [
      "X_train shape:  (3971, 31)\n",
      "X_val shape:  (1957, 31)\n",
      "y_train shape:  (3971,)\n",
      "y_val shape:  (1957,)\n"
     ]
    }
   ],
   "source": [
    "print('X_train shape: ', X_train.shape)\n",
    "print('X_val shape: ', X_val.shape)\n",
    "print('y_train shape: ', y_train.shape)\n",
    "print('y_val shape: ', y_val.shape)"
   ]
  },
  {
   "cell_type": "markdown",
   "metadata": {},
   "source": [
    "# Begin Random Forest"
   ]
  },
  {
   "cell_type": "code",
   "execution_count": 494,
   "metadata": {},
   "outputs": [],
   "source": [
    "from sklearn.ensemble import RandomForestClassifier\n",
    "from sklearn.preprocessing import LabelEncoder, StandardScaler\n",
    "from sklearn.metrics import accuracy_score, classification_report, f1_score, confusion_matrix\n"
   ]
  },
  {
   "cell_type": "code",
   "execution_count": 495,
   "metadata": {},
   "outputs": [],
   "source": [
    "rf = RandomForestClassifier(n_estimators=500, \n",
    "                            criterion='entropy', \n",
    "                            random_state=42,\n",
    "                            class_weight=\"balanced\"\n",
    "                           )"
   ]
  },
  {
   "cell_type": "code",
   "execution_count": 496,
   "metadata": {},
   "outputs": [],
   "source": [
    "ss = StandardScaler(copy=True)\n",
    "X_train = ss.fit_transform(X_train)\n",
    "X_val = ss.transform(X_val)"
   ]
  },
  {
   "cell_type": "code",
   "execution_count": 497,
   "metadata": {},
   "outputs": [
    {
     "name": "stdout",
     "output_type": "stream",
     "text": [
      "X_train shape:  (3971, 31)\n",
      "X_val shape:  (1957, 31)\n",
      "y_train shape:  (3971,)\n",
      "y_val shape:  (1957,)\n"
     ]
    }
   ],
   "source": [
    "print('X_train shape: ', X_train.shape)\n",
    "print('X_val shape: ', X_val.shape)\n",
    "print('y_train shape: ', y_train.shape)\n",
    "print('y_val shape: ', y_val.shape)"
   ]
  },
  {
   "cell_type": "code",
   "execution_count": 498,
   "metadata": {},
   "outputs": [
    {
     "data": {
      "text/plain": [
       "RandomForestClassifier(class_weight='balanced', criterion='entropy',\n",
       "                       n_estimators=500, random_state=42)"
      ]
     },
     "execution_count": 498,
     "metadata": {},
     "output_type": "execute_result"
    }
   ],
   "source": [
    "rf.fit(X_train, y_train)"
   ]
  },
  {
   "cell_type": "code",
   "execution_count": 499,
   "metadata": {},
   "outputs": [
    {
     "data": {
      "text/plain": [
       "((1957,), (1957, 31), (1957,))"
      ]
     },
     "execution_count": 499,
     "metadata": {},
     "output_type": "execute_result"
    }
   ],
   "source": [
    "y_pred = rf.predict(X_val)\n",
    "y_pred.shape, X_val.shape, y_val.shape"
   ]
  },
  {
   "cell_type": "code",
   "execution_count": 500,
   "metadata": {},
   "outputs": [
    {
     "data": {
      "text/plain": [
       "array([[  12,    9],\n",
       "       [   0, 1936]])"
      ]
     },
     "execution_count": 500,
     "metadata": {},
     "output_type": "execute_result"
    }
   ],
   "source": [
    "cm = confusion_matrix(y_val, y_pred)\n",
    "cm"
   ]
  },
  {
   "cell_type": "code",
   "execution_count": 501,
   "metadata": {},
   "outputs": [
    {
     "data": {
      "text/plain": [
       "0.9976810100489565"
      ]
     },
     "execution_count": 501,
     "metadata": {},
     "output_type": "execute_result"
    }
   ],
   "source": [
    "f1_score(y_val, y_pred)"
   ]
  },
  {
   "cell_type": "markdown",
   "metadata": {},
   "source": [
    "## Testing"
   ]
  },
  {
   "cell_type": "code",
   "execution_count": 502,
   "metadata": {},
   "outputs": [],
   "source": [
    "X_test = Training_Set[0]\n",
    "y_test = Training_Set[1]"
   ]
  },
  {
   "cell_type": "code",
   "execution_count": 503,
   "metadata": {},
   "outputs": [],
   "source": [
    "X_test = ss.transform(X_test)"
   ]
  },
  {
   "cell_type": "code",
   "execution_count": 504,
   "metadata": {},
   "outputs": [],
   "source": [
    "predictions = rf.predict(X_test)"
   ]
  },
  {
   "cell_type": "code",
   "execution_count": 505,
   "metadata": {},
   "outputs": [
    {
     "data": {
      "text/plain": [
       "array([[  12,    9],\n",
       "       [   0, 1936]])"
      ]
     },
     "execution_count": 505,
     "metadata": {},
     "output_type": "execute_result"
    }
   ],
   "source": [
    "cm_test = confusion_matrix(y_test, predictions)\n",
    "cm"
   ]
  },
  {
   "cell_type": "code",
   "execution_count": 506,
   "metadata": {},
   "outputs": [
    {
     "data": {
      "text/plain": [
       "0.9982201881515382"
      ]
     },
     "execution_count": 506,
     "metadata": {},
     "output_type": "execute_result"
    }
   ],
   "source": [
    "f1_score(y_test, predictions)"
   ]
  },
  {
   "cell_type": "markdown",
   "metadata": {},
   "source": [
    "# Let's try a NN"
   ]
  },
  {
   "cell_type": "code",
   "execution_count": 508,
   "metadata": {},
   "outputs": [
    {
     "ename": "ModuleNotFoundError",
     "evalue": "No module named 'tensorflow'",
     "output_type": "error",
     "traceback": [
      "\u001b[0;31m---------------------------------------------------------------------------\u001b[0m",
      "\u001b[0;31mModuleNotFoundError\u001b[0m                       Traceback (most recent call last)",
      "\u001b[0;32m<ipython-input-508-f52d4bcdb8c5>\u001b[0m in \u001b[0;36m<module>\u001b[0;34m\u001b[0m\n\u001b[0;32m----> 1\u001b[0;31m \u001b[0;32mimport\u001b[0m \u001b[0mtensorflow\u001b[0m\u001b[0;34m\u001b[0m\u001b[0;34m\u001b[0m\u001b[0m\n\u001b[0m\u001b[1;32m      2\u001b[0m \u001b[0;32mfrom\u001b[0m \u001b[0mtensorflow\u001b[0m \u001b[0;32mimport\u001b[0m \u001b[0mkeras\u001b[0m\u001b[0;34m\u001b[0m\u001b[0;34m\u001b[0m\u001b[0m\n\u001b[1;32m      3\u001b[0m \u001b[0;32mfrom\u001b[0m \u001b[0mtensorflow\u001b[0m\u001b[0;34m.\u001b[0m\u001b[0mkeras\u001b[0m \u001b[0;32mimport\u001b[0m \u001b[0mlayers\u001b[0m\u001b[0;34m\u001b[0m\u001b[0;34m\u001b[0m\u001b[0m\n\u001b[1;32m      4\u001b[0m \u001b[0;32mfrom\u001b[0m \u001b[0mtensorflow\u001b[0m\u001b[0;34m.\u001b[0m\u001b[0mkeras\u001b[0m\u001b[0;34m.\u001b[0m\u001b[0mmodels\u001b[0m \u001b[0;32mimport\u001b[0m \u001b[0mSequential\u001b[0m\u001b[0;34m\u001b[0m\u001b[0;34m\u001b[0m\u001b[0m\n",
      "\u001b[0;31mModuleNotFoundError\u001b[0m: No module named 'tensorflow'"
     ]
    }
   ],
   "source": [
    "import tensorflow\n",
    "from tensorflow import keras\n",
    "from tensorflow.keras import layers\n",
    "from tensorflow.keras.models import Sequential"
   ]
  },
  {
   "cell_type": "code",
   "execution_count": null,
   "metadata": {},
   "outputs": [],
   "source": [
    "losses = []\n",
    "model = Sequential()\n",
    "model.add(layers.Dense(128, activation='relu', input_shape=(X_train.shape[1],)))\n",
    "model.add(layers.Dense(128, activation='relu'))\n",
    "model.add(layers.Dense(64, activation='relu'))\n",
    "model.add(layers.Dense(2, activation='softmax'))\n",
    "model.compile(optimizer='adam',\n",
    "              loss='sparse_categorical_crossentropy',\n",
    "              metrics=['accuracy'])"
   ]
  },
  {
   "cell_type": "code",
   "execution_count": null,
   "metadata": {},
   "outputs": [],
   "source": []
  },
  {
   "cell_type": "code",
   "execution_count": null,
   "metadata": {},
   "outputs": [],
   "source": []
  },
  {
   "cell_type": "code",
   "execution_count": null,
   "metadata": {},
   "outputs": [],
   "source": []
  },
  {
   "cell_type": "code",
   "execution_count": null,
   "metadata": {},
   "outputs": [],
   "source": []
  },
  {
   "cell_type": "markdown",
   "metadata": {},
   "source": [
    "### What's the failure rate right after the machine fails?"
   ]
  },
  {
   "cell_type": "code",
   "execution_count": 143,
   "metadata": {},
   "outputs": [
    {
     "data": {
      "text/plain": [
       "0.6133333333333333"
      ]
     },
     "execution_count": 143,
     "metadata": {},
     "output_type": "execute_result"
    }
   ],
   "source": [
    "hour_after = df_2[df_2['Hours Since Previous Failure'] == 1]\n",
    "## failure rate\n",
    "hour_after[hour_after['Failure'] == 'Yes'].count() / hour_after.count()"
   ]
  },
  {
   "cell_type": "markdown",
   "metadata": {},
   "source": [
    "So once the machine fails it has a 61.3% chance of failing again.\n",
    "\n",
    "This makes me think that the operators could be at fault"
   ]
  },
  {
   "cell_type": "code",
   "execution_count": null,
   "metadata": {},
   "outputs": [],
   "source": []
  },
  {
   "cell_type": "markdown",
   "metadata": {},
   "source": [
    "### Let's get a feel for what hours of the day the machines were running\n"
   ]
  },
  {
   "cell_type": "code",
   "execution_count": 144,
   "metadata": {},
   "outputs": [
    {
     "name": "stdout",
     "output_type": "stream",
     "text": [
      "+----+-----+\n",
      "|hour|count|\n",
      "+----+-----+\n",
      "|   0|  330|\n",
      "|   1|  330|\n",
      "|   2|  330|\n",
      "|   3|  330|\n",
      "|   4|  330|\n",
      "|   5|  330|\n",
      "|   6|  330|\n",
      "|   7|  330|\n",
      "|   8|  330|\n",
      "|   9|  329|\n",
      "|  10|  329|\n",
      "|  11|  329|\n",
      "|  12|  329|\n",
      "|  13|  329|\n",
      "|  14|  329|\n",
      "|  15|  329|\n",
      "|  16|  329|\n",
      "|  17|  329|\n",
      "|  18|  329|\n",
      "|  19|  329|\n",
      "|  20|  329|\n",
      "|  21|  329|\n",
      "|  22|  329|\n",
      "|  23|  329|\n",
      "+----+-----+\n",
      "\n"
     ]
    }
   ],
   "source": [
    "df_2.groupBy(\"hour\").count().sort(\"hour\").show(24)\n"
   ]
  },
  {
   "cell_type": "markdown",
   "metadata": {},
   "source": [
    "### What hours of the day did the machines fail?"
   ]
  },
  {
   "cell_type": "code",
   "execution_count": 145,
   "metadata": {},
   "outputs": [],
   "source": [
    "failure_df = df_2.filter(df_2['Failure'] == 'Yes')"
   ]
  },
  {
   "cell_type": "code",
   "execution_count": 146,
   "metadata": {},
   "outputs": [
    {
     "data": {
      "text/plain": [
       "75"
      ]
     },
     "execution_count": 146,
     "metadata": {},
     "output_type": "execute_result"
    }
   ],
   "source": [
    "failure_df.count()"
   ]
  },
  {
   "cell_type": "code",
   "execution_count": 147,
   "metadata": {},
   "outputs": [
    {
     "name": "stdout",
     "output_type": "stream",
     "text": [
      "+----+-----+\n",
      "|hour|count|\n",
      "+----+-----+\n",
      "|   0|    4|\n",
      "|   1|    3|\n",
      "|   2|    6|\n",
      "|   3|    2|\n",
      "|   4|    5|\n",
      "|   5|    5|\n",
      "|   6|    8|\n",
      "|   7|    5|\n",
      "|   8|    3|\n",
      "|   9|    4|\n",
      "|  10|    3|\n",
      "|  11|    3|\n",
      "|  12|    5|\n",
      "|  13|    3|\n",
      "|  14|    1|\n",
      "|  15|    3|\n",
      "|  16|    1|\n",
      "|  17|    3|\n",
      "|  18|    1|\n",
      "|  19|    1|\n",
      "|  20|    1|\n",
      "|  21|    1|\n",
      "|  22|    2|\n",
      "|  23|    2|\n",
      "+----+-----+\n",
      "\n"
     ]
    }
   ],
   "source": [
    "fail_by_hour = failure_df.groupBy(\"hour\").count().sort(\"hour\")\n",
    "fail_by_hour.show(25)\n"
   ]
  },
  {
   "cell_type": "code",
   "execution_count": 148,
   "metadata": {},
   "outputs": [],
   "source": [
    "fail_by_hour = fail_by_hour.select('*').toPandas()"
   ]
  },
  {
   "cell_type": "code",
   "execution_count": 149,
   "metadata": {},
   "outputs": [
    {
     "data": {
      "text/plain": [
       "Text(0.5, 1.0, 'Number of Failures at Each Operational Hour of the Day')"
      ]
     },
     "execution_count": 149,
     "metadata": {},
     "output_type": "execute_result"
    },
    {
     "data": {
      "image/png": "[encoded data removed]",
      "text/plain": [
       "<Figure size 720x576 with 1 Axes>"
      ]
     },
     "metadata": {
      "needs_background": "light"
     },
     "output_type": "display_data"
    }
   ],
   "source": [
    "fig, ax = plt.subplots(figsize=(10,8))\n",
    "ax.barh(fail_by_hour['hour'], fail_by_hour['count'])\n",
    "ax.set_xlabel('Number of Fails')\n",
    "ax.set_ylabel('Hour of day the Failure Occurred ')\n",
    "ax.set_title('Number of Failures at Each Operational Hour of the Day')"
   ]
  },
  {
   "cell_type": "markdown",
   "metadata": {},
   "source": [
    "### Maybe the person working the morning shift is slacking?"
   ]
  },
  {
   "cell_type": "code",
   "execution_count": 150,
   "metadata": {},
   "outputs": [
    {
     "name": "stdout",
     "output_type": "stream",
     "text": [
      "+---------+----+-----+\n",
      "| Operator|hour|count|\n",
      "+---------+----+-----+\n",
      "|Operator1|   0|  110|\n",
      "|Operator1|   1|  110|\n",
      "|Operator1|   2|  110|\n",
      "|Operator1|   3|  110|\n",
      "|Operator1|   4|  110|\n",
      "|Operator1|   5|  110|\n",
      "|Operator1|   6|  110|\n",
      "|Operator1|   7|  110|\n",
      "|Operator2|   0|  110|\n",
      "|Operator2|   1|  110|\n",
      "|Operator2|   2|  110|\n",
      "|Operator2|   3|  110|\n",
      "|Operator2|   4|  110|\n",
      "|Operator2|   5|  110|\n",
      "|Operator2|   6|  110|\n",
      "|Operator2|   7|  110|\n",
      "|Operator2|   8|  110|\n",
      "|Operator2|   9|  109|\n",
      "|Operator2|  10|  109|\n",
      "|Operator2|  11|  109|\n",
      "|Operator2|  12|  109|\n",
      "|Operator2|  13|  109|\n",
      "|Operator2|  14|  109|\n",
      "|Operator2|  15|  109|\n",
      "|Operator3|   8|  110|\n",
      "|Operator3|   9|  110|\n",
      "|Operator3|  10|  110|\n",
      "|Operator3|  11|  110|\n",
      "|Operator3|  12|  110|\n",
      "|Operator3|  13|  110|\n",
      "|Operator3|  14|  110|\n",
      "|Operator3|  15|  110|\n",
      "|Operator4|   8|  110|\n",
      "|Operator4|   9|  110|\n",
      "|Operator4|  10|  110|\n",
      "|Operator4|  11|  110|\n",
      "|Operator4|  12|  110|\n",
      "|Operator4|  13|  110|\n",
      "|Operator4|  14|  110|\n",
      "|Operator4|  15|  110|\n",
      "|Operator5|  16|  110|\n",
      "|Operator5|  17|  110|\n",
      "|Operator5|  18|  110|\n",
      "|Operator5|  19|  110|\n",
      "|Operator5|  20|  110|\n",
      "|Operator5|  21|  110|\n",
      "|Operator5|  22|  110|\n",
      "|Operator5|  23|  110|\n",
      "|Operator6|  16|  110|\n",
      "|Operator6|  17|  110|\n",
      "|Operator6|  18|  110|\n",
      "|Operator6|  19|  110|\n",
      "|Operator6|  20|  110|\n",
      "|Operator6|  21|  110|\n",
      "|Operator6|  22|  110|\n",
      "|Operator6|  23|  110|\n",
      "|Operator7|   0|  110|\n",
      "|Operator7|   1|  110|\n",
      "|Operator7|   2|  110|\n",
      "|Operator7|   3|  110|\n",
      "|Operator7|   4|  110|\n",
      "|Operator7|   5|  110|\n",
      "|Operator7|   6|  110|\n",
      "|Operator7|   7|  110|\n",
      "|Operator8|  16|  109|\n",
      "|Operator8|  17|  109|\n",
      "|Operator8|  18|  109|\n",
      "|Operator8|  19|  109|\n",
      "|Operator8|  20|  109|\n",
      "|Operator8|  21|  109|\n",
      "|Operator8|  22|  109|\n",
      "|Operator8|  23|  109|\n",
      "+---------+----+-----+\n",
      "\n"
     ]
    }
   ],
   "source": [
    "df_2['Operator', 'Failure', 'hour'].groupby('Operator', 'hour').count().sort('Operator', 'hour').show(100)"
   ]
  },
  {
   "cell_type": "markdown",
   "metadata": {},
   "source": [
    "Operators 1, 2, 7 all work mornings. Let's check out operator failure rate"
   ]
  },
  {
   "cell_type": "code",
   "execution_count": 151,
   "metadata": {},
   "outputs": [
    {
     "data": {
      "text/html": [
       "<div>\n",
       "<style scoped>\n",
       "    .dataframe tbody tr th:only-of-type {\n",
       "        vertical-align: middle;\n",
       "    }\n",
       "\n",
       "    .dataframe tbody tr th {\n",
       "        vertical-align: top;\n",
       "    }\n",
       "\n",
       "    .dataframe thead th {\n",
       "        text-align: right;\n",
       "    }\n",
       "</style>\n",
       "<table border=\"1\" class=\"dataframe\">\n",
       "  <thead>\n",
       "    <tr style=\"text-align: right;\">\n",
       "      <th></th>\n",
       "      <th>Operator</th>\n",
       "      <th>Failure</th>\n",
       "    </tr>\n",
       "  </thead>\n",
       "  <tbody>\n",
       "    <tr>\n",
       "      <th>0</th>\n",
       "      <td>Operator1</td>\n",
       "      <td>No</td>\n",
       "    </tr>\n",
       "    <tr>\n",
       "      <th>1</th>\n",
       "      <td>Operator1</td>\n",
       "      <td>No</td>\n",
       "    </tr>\n",
       "    <tr>\n",
       "      <th>2</th>\n",
       "      <td>Operator1</td>\n",
       "      <td>No</td>\n",
       "    </tr>\n",
       "    <tr>\n",
       "      <th>3</th>\n",
       "      <td>Operator1</td>\n",
       "      <td>No</td>\n",
       "    </tr>\n",
       "    <tr>\n",
       "      <th>4</th>\n",
       "      <td>Operator1</td>\n",
       "      <td>No</td>\n",
       "    </tr>\n",
       "  </tbody>\n",
       "</table>\n",
       "</div>"
      ],
      "text/plain": [
       "    Operator Failure\n",
       "0  Operator1      No\n",
       "1  Operator1      No\n",
       "2  Operator1      No\n",
       "3  Operator1      No\n",
       "4  Operator1      No"
      ]
     },
     "execution_count": 151,
     "metadata": {},
     "output_type": "execute_result"
    }
   ],
   "source": [
    "# Convert the Spark DataFrame back to a Pandas DataFrame using Arrow\n",
    "operators_df = test_df.select(\"Operator\", 'Failure').toPandas()\n",
    "operators_df.head()"
   ]
  },
  {
   "cell_type": "code",
   "execution_count": 152,
   "metadata": {},
   "outputs": [
    {
     "data": {
      "text/plain": [
       "Text(0.5, 1.0, 'Failure Rate per Operator')"
      ]
     },
     "execution_count": 152,
     "metadata": {},
     "output_type": "execute_result"
    },
    {
     "data": {
      "image/png": "[encoded data removed]",
      "text/plain": [
       "<Figure size 720x576 with 1 Axes>"
      ]
     },
     "metadata": {
      "needs_background": "light"
     },
     "output_type": "display_data"
    }
   ],
   "source": [
    "operators_df[operators_df['Failure'] == 'Yes']\n",
    "op_fail_df = operators_df.groupby('Operator').agg('count')\n",
    "op_fail_df['num'] = operators_df[operators_df['Failure'] == 'Yes'].groupby('Operator').agg('count')\n",
    "op_fail_df['fail_rate'] = op_fail_df['num'] / op_fail_df['Failure']\n",
    "op_fail_df\n",
    "# operators_df.head()\n",
    "\n",
    "fig, ax = plt.subplots(figsize=(10,8))\n",
    "ax.barh(op_fail_df.index, op_fail_df['fail_rate'])\n",
    "ax.set_xlabel('Failure Rate')\n",
    "ax.set_ylabel('Operator')\n",
    "ax.set_title('Failure Rate per Operator')"
   ]
  },
  {
   "cell_type": "markdown",
   "metadata": {},
   "source": [
    "Let's check out failures / day of the week for fun"
   ]
  },
  {
   "cell_type": "code",
   "execution_count": 153,
   "metadata": {},
   "outputs": [
    {
     "name": "stdout",
     "output_type": "stream",
     "text": [
      "+-----------+-----+\n",
      "|day_of_week|count|\n",
      "+-----------+-----+\n",
      "|          1|   11|\n",
      "|          2|    8|\n",
      "|          3|    6|\n",
      "|          4|   14|\n",
      "|          5|    6|\n",
      "|          6|   10|\n",
      "|          7|   20|\n",
      "+-----------+-----+\n",
      "\n"
     ]
    }
   ],
   "source": [
    "failure_df.groupBy(\"day_of_week\").count().sort(\"day_of_week\").show()\n"
   ]
  },
  {
   "cell_type": "markdown",
   "metadata": {},
   "source": [
    "## Begin Random Forest"
   ]
  },
  {
   "cell_type": "code",
   "execution_count": 345,
   "metadata": {},
   "outputs": [],
   "source": [
    "from sklearn.ensemble import RandomForestClassifier\n",
    "from sklearn.preprocessing import LabelEncoder, StandardScaler\n",
    "from sklearn.metrics import accuracy_score, classification_report, f1_score, confusion_matrix\n"
   ]
  },
  {
   "cell_type": "markdown",
   "metadata": {},
   "source": [
    "### Predict"
   ]
  },
  {
   "cell_type": "code",
   "execution_count": 351,
   "metadata": {},
   "outputs": [
    {
     "data": {
      "text/plain": [
       "0.981284774911482"
      ]
     },
     "execution_count": 351,
     "metadata": {},
     "output_type": "execute_result"
    }
   ],
   "source": [
    "accuracy_score(y_test, predictions)"
   ]
  },
  {
   "cell_type": "code",
   "execution_count": null,
   "metadata": {},
   "outputs": [],
   "source": []
  },
  {
   "cell_type": "markdown",
   "metadata": {},
   "source": [
    "## Testing"
   ]
  },
  {
   "cell_type": "code",
   "execution_count": 353,
   "metadata": {},
   "outputs": [
    {
     "name": "stdout",
     "output_type": "stream",
     "text": [
      "+----+----------------+-----------+--------+---------+--------+--------+--------+--------+--------+--------+--------+--------+--------+---------+---------+---------+---------+---------+---------+----------------------------+----------+-----------+------------------+-----------------+----------+------------+------------+\n",
      "|  ID|            Date|Temperature|Humidity| Operator|Measure1|Measure2|Measure3|Measure4|Measure5|Measure6|Measure7|Measure8|Measure9|Measure10|Measure11|Measure12|Measure13|Measure14|Measure15|Hours Since Previous Failure|?Date.year|?Date.month|?Date.day-of-month|?Date.day-of-week|?Date.hour|?Date.minute|?Date.second|\n",
      "+----+----------------+-----------+--------+---------+--------+--------+--------+--------+--------+--------+--------+--------+--------+---------+---------+---------+---------+---------+---------+----------------------------+----------+-----------+------------------+-----------------+----------+------------+------------+\n",
      "|7906|25-11-2016 09:00|         62|      85|Operator2|     573|       0|       2|    1122|     361|    1695|    1210|     984|    1056|      381|      823|      819|      527|     1837|     1988|                         391|      2016|         11|                25|                5|         9|           0|           0|\n",
      "|7907|25-11-2016 10:00|         63|      77|Operator2|    1629|       2|       2|     829|     831|    1820|     802|    1469|     561|      314|     1501|      868|     1579|     1113|      676|                         392|      2016|         11|                25|                5|        10|           0|           0|\n",
      "|7908|25-11-2016 11:00|         68|      85|Operator2|    1513|       1|       2|    1467|    1138|    1087|    1150|    1656|     909|     1135|      875|     1928|     1063|     1320|      738|                         393|      2016|         11|                25|                5|        11|           0|           0|\n",
      "|7909|25-11-2016 12:00|         64|      75|Operator2|    1734|       0|       2|    1806|    1483|     955|    1463|    1879|     321|     1952|     1980|      520|     1189|     1370|     1485|                         394|      2016|         11|                25|                5|        12|           0|           0|\n",
      "|7910|25-11-2016 13:00|         68|      84|Operator2|    1637|       0|       0|     647|     884|    1979|    1183|    1090|     569|     1091|     1102|      318|      371|     1544|      193|                         395|      2016|         11|                25|                5|        13|           0|           0|\n",
      "+----+----------------+-----------+--------+---------+--------+--------+--------+--------+--------+--------+--------+--------+--------+---------+---------+---------+---------+---------+---------+----------------------------+----------+-----------+------------------+-----------------+----------+------------+------------+\n",
      "only showing top 5 rows\n",
      "\n"
     ]
    }
   ],
   "source": [
    "test_df = spark.read.csv('test.csv', header=True)\n",
    "test_df = test_df.drop('?Date.minute', '?Date.second')\n",
    "df.show(5)"
   ]
  },
  {
   "cell_type": "code",
   "execution_count": 354,
   "metadata": {},
   "outputs": [
    {
     "name": "stdout",
     "output_type": "stream",
     "text": [
      "root\n",
      " |-- ID: string (nullable = true)\n",
      " |-- Date: string (nullable = true)\n",
      " |-- Temperature: string (nullable = true)\n",
      " |-- Humidity: string (nullable = true)\n",
      " |-- Operator: string (nullable = true)\n",
      " |-- Measure1: string (nullable = true)\n",
      " |-- Measure2: string (nullable = true)\n",
      " |-- Measure3: string (nullable = true)\n",
      " |-- Measure4: string (nullable = true)\n",
      " |-- Measure5: string (nullable = true)\n",
      " |-- Measure6: string (nullable = true)\n",
      " |-- Measure7: string (nullable = true)\n",
      " |-- Measure8: string (nullable = true)\n",
      " |-- Measure9: string (nullable = true)\n",
      " |-- Measure10: string (nullable = true)\n",
      " |-- Measure11: string (nullable = true)\n",
      " |-- Measure12: string (nullable = true)\n",
      " |-- Measure13: string (nullable = true)\n",
      " |-- Measure14: string (nullable = true)\n",
      " |-- Measure15: string (nullable = true)\n",
      " |-- Hours Since Previous Failure: string (nullable = true)\n",
      " |-- year: string (nullable = true)\n",
      " |-- month: string (nullable = true)\n",
      " |-- day_of_month: string (nullable = true)\n",
      " |-- day_of_week: string (nullable = true)\n",
      " |-- hour: string (nullable = true)\n",
      "\n",
      "+----+----------------+-----------+--------+---------+--------+--------+--------+--------+--------+--------+--------+--------+--------+---------+---------+---------+---------+---------+---------+----------------------------+----+-----+------------+-----------+----+\n",
      "|  ID|            Date|Temperature|Humidity| Operator|Measure1|Measure2|Measure3|Measure4|Measure5|Measure6|Measure7|Measure8|Measure9|Measure10|Measure11|Measure12|Measure13|Measure14|Measure15|Hours Since Previous Failure|year|month|day_of_month|day_of_week|hour|\n",
      "+----+----------------+-----------+--------+---------+--------+--------+--------+--------+--------+--------+--------+--------+--------+---------+---------+---------+---------+---------+---------+----------------------------+----+-----+------------+-----------+----+\n",
      "|7906|25-11-2016 09:00|         62|      85|Operator2|     573|       0|       2|    1122|     361|    1695|    1210|     984|    1056|      381|      823|      819|      527|     1837|     1988|                         391|2016|   11|          25|          5|   9|\n",
      "|7907|25-11-2016 10:00|         63|      77|Operator2|    1629|       2|       2|     829|     831|    1820|     802|    1469|     561|      314|     1501|      868|     1579|     1113|      676|                         392|2016|   11|          25|          5|  10|\n",
      "|7908|25-11-2016 11:00|         68|      85|Operator2|    1513|       1|       2|    1467|    1138|    1087|    1150|    1656|     909|     1135|      875|     1928|     1063|     1320|      738|                         393|2016|   11|          25|          5|  11|\n",
      "|7909|25-11-2016 12:00|         64|      75|Operator2|    1734|       0|       2|    1806|    1483|     955|    1463|    1879|     321|     1952|     1980|      520|     1189|     1370|     1485|                         394|2016|   11|          25|          5|  12|\n",
      "|7910|25-11-2016 13:00|         68|      84|Operator2|    1637|       0|       0|     647|     884|    1979|    1183|    1090|     569|     1091|     1102|      318|      371|     1544|      193|                         395|2016|   11|          25|          5|  13|\n",
      "|7911|25-11-2016 14:00|         64|      85|Operator2|    1927|       3|       2|     340|     180|     315|     192|    1623|     519|      905|      491|     1292|     1633|     1586|      985|                         396|2016|   11|          25|          5|  14|\n",
      "|7912|25-11-2016 15:00|         68|      80|Operator2|     996|       0|       1|    1210|     682|    1199|    1367|    1548|    1456|     1849|      195|      731|     1533|      471|      898|                         397|2016|   11|          25|          5|  15|\n",
      "|7913|25-11-2016 16:00|         60|      85|Operator8|    1977|       0|       2|     878|     522|    1519|    1415|     583|    1248|      811|     1054|     1062|     1387|     1329|      537|                         398|2016|   11|          25|          5|  16|\n",
      "|7914|25-11-2016 17:00|         64|      82|Operator8|    1423|       3|       2|     394|    1787|     751|     667|    1353|     808|      233|     1203|     1503|     1625|     1430|      252|                         399|2016|   11|          25|          5|  17|\n",
      "|7915|25-11-2016 18:00|         63|      80|Operator8|     517|       2|       2|    1998|    1852|     295|     420|     941|    1391|     1095|     1135|     1826|      514|     1935|     1434|                         400|2016|   11|          25|          5|  18|\n",
      "|7916|25-11-2016 19:00|         65|      76|Operator8|    1923|       1|       0|    2010|    1373|    1795|     832|     592|    1475|     1746|      723|     1182|     1054|     1956|      621|                         401|2016|   11|          25|          5|  19|\n",
      "|7917|25-11-2016 20:00|         67|      81|Operator8|     633|       0|       0|    1055|    1554|     326|    1382|    1110|     584|      542|     1376|     1556|     1284|     1358|      443|                         402|2016|   11|          25|          5|  20|\n",
      "|7918|25-11-2016 21:00|         62|      79|Operator8|     274|       1|       2|     428|     897|    1346|    1588|    1768|     160|      389|     1094|     1615|     1381|      166|     1476|                         403|2016|   11|          25|          5|  21|\n",
      "|7919|25-11-2016 22:00|         61|      85|Operator8|    1263|       2|       2|    1603|    1803|     270|    1977|     408|    1657|     1898|     1607|      837|     2005|     1656|     1150|                         404|2016|   11|          25|          5|  22|\n",
      "|7920|25-11-2016 23:00|         60|      83|Operator8|    1131|       3|       1|    1243|    1054|    1494|     175|     448|    1523|     1960|     1907|     2008|     1483|     1146|      328|                         405|2016|   11|          25|          5|  23|\n",
      "|7921|26-11-2016 00:00|         60|      78|Operator1|    1033|       2|       1|     970|     286|     850|     978|     978|     759|     1328|      815|      543|      994|     1184|     1263|                         406|2016|   11|          26|          6|   0|\n",
      "|7922|26-11-2016 01:00|         66|      83|Operator1|    1878|       1|       2|     731|     398|     618|     495|    1912|     999|     1443|      975|      972|     2000|      436|     1771|                         407|2016|   11|          26|          6|   1|\n",
      "|7923|26-11-2016 02:00|         62|      81|Operator1|    1429|       2|       1|    1929|     520|     542|     326|     303|     460|      218|     1134|     1457|     1278|      792|      523|                         408|2016|   11|          26|          6|   2|\n",
      "|7924|26-11-2016 03:00|         65|      76|Operator1|    1181|       2|       0|     292|     697|    1532|    1956|     324|    1337|     1829|     1021|      421|      599|     1877|      943|                         409|2016|   11|          26|          6|   3|\n",
      "|7925|26-11-2016 04:00|         66|      75|Operator1|    1530|       0|       1|    1551|    1327|     575|    1240|     209|     935|     1217|     1863|      328|     1782|     1880|     1809|                         410|2016|   11|          26|          6|   4|\n",
      "+----+----------------+-----------+--------+---------+--------+--------+--------+--------+--------+--------+--------+--------+--------+---------+---------+---------+---------+---------+---------+----------------------------+----+-----+------------+-----------+----+\n",
      "only showing top 20 rows\n",
      "\n"
     ]
    }
   ],
   "source": [
    "test_df = test_df.drop('?Date.minute', '?Date.second')\n",
    "dates = ['year', 'month', 'day_of_month', 'day_of_week', 'hour']\n",
    "columns = test_df.columns[:-5] + dates\n",
    "\n",
    "\n",
    "oldColumns = test_df.schema.names\n",
    "newColumns = columns\n",
    "\n",
    "test_df = reduce(lambda test_df, idx: test_df.withColumnRenamed(oldColumns[idx], newColumns[idx]), range(len(oldColumns)), test_df)\n",
    "test_df.printSchema()\n",
    "test_df.show()"
   ]
  },
  {
   "cell_type": "code",
   "execution_count": 355,
   "metadata": {},
   "outputs": [],
   "source": [
    "to_int = test_df.columns[2:4] + test_df.columns[5:21] + test_df.columns[22:]\n",
    "\n",
    "test_df = test_df.select(*(col(c).cast(\"int\").alias(c) if c in to_int else col(c) for c in test_df.columns))"
   ]
  },
  {
   "cell_type": "code",
   "execution_count": 357,
   "metadata": {},
   "outputs": [
    {
     "name": "stdout",
     "output_type": "stream",
     "text": [
      "+----+----------------+-----------+--------+---------+--------+--------+--------+--------+--------+--------+--------+--------+--------+---------+---------+---------+---------+---------+---------+----------------------------+----+-----+------------+-----------+----+\n",
      "|  ID|            Date|Temperature|Humidity| Operator|Measure1|Measure2|Measure3|Measure4|Measure5|Measure6|Measure7|Measure8|Measure9|Measure10|Measure11|Measure12|Measure13|Measure14|Measure15|Hours Since Previous Failure|year|month|day_of_month|day_of_week|hour|\n",
      "+----+----------------+-----------+--------+---------+--------+--------+--------+--------+--------+--------+--------+--------+--------+---------+---------+---------+---------+---------+---------+----------------------------+----+-----+------------+-----------+----+\n",
      "|7906|25-11-2016 09:00|         62|      85|Operator2|     573|       0|       2|    1122|     361|    1695|    1210|     984|    1056|      381|      823|      819|      527|     1837|     1988|                         391|2016|   11|          25|          5|   9|\n",
      "|7907|25-11-2016 10:00|         63|      77|Operator2|    1629|       2|       2|     829|     831|    1820|     802|    1469|     561|      314|     1501|      868|     1579|     1113|      676|                         392|2016|   11|          25|          5|  10|\n",
      "|7908|25-11-2016 11:00|         68|      85|Operator2|    1513|       1|       2|    1467|    1138|    1087|    1150|    1656|     909|     1135|      875|     1928|     1063|     1320|      738|                         393|2016|   11|          25|          5|  11|\n",
      "|7909|25-11-2016 12:00|         64|      75|Operator2|    1734|       0|       2|    1806|    1483|     955|    1463|    1879|     321|     1952|     1980|      520|     1189|     1370|     1485|                         394|2016|   11|          25|          5|  12|\n",
      "|7910|25-11-2016 13:00|         68|      84|Operator2|    1637|       0|       0|     647|     884|    1979|    1183|    1090|     569|     1091|     1102|      318|      371|     1544|      193|                         395|2016|   11|          25|          5|  13|\n",
      "+----+----------------+-----------+--------+---------+--------+--------+--------+--------+--------+--------+--------+--------+--------+---------+---------+---------+---------+---------+---------+----------------------------+----+-----+------------+-----------+----+\n",
      "only showing top 5 rows\n",
      "\n",
      "root\n",
      " |-- ID: string (nullable = true)\n",
      " |-- Date: string (nullable = true)\n",
      " |-- Temperature: integer (nullable = true)\n",
      " |-- Humidity: integer (nullable = true)\n",
      " |-- Operator: string (nullable = true)\n",
      " |-- Measure1: integer (nullable = true)\n",
      " |-- Measure2: integer (nullable = true)\n",
      " |-- Measure3: integer (nullable = true)\n",
      " |-- Measure4: integer (nullable = true)\n",
      " |-- Measure5: integer (nullable = true)\n",
      " |-- Measure6: integer (nullable = true)\n",
      " |-- Measure7: integer (nullable = true)\n",
      " |-- Measure8: integer (nullable = true)\n",
      " |-- Measure9: integer (nullable = true)\n",
      " |-- Measure10: integer (nullable = true)\n",
      " |-- Measure11: integer (nullable = true)\n",
      " |-- Measure12: integer (nullable = true)\n",
      " |-- Measure13: integer (nullable = true)\n",
      " |-- Measure14: integer (nullable = true)\n",
      " |-- Measure15: integer (nullable = true)\n",
      " |-- Hours Since Previous Failure: integer (nullable = true)\n",
      " |-- year: string (nullable = true)\n",
      " |-- month: integer (nullable = true)\n",
      " |-- day_of_month: integer (nullable = true)\n",
      " |-- day_of_week: integer (nullable = true)\n",
      " |-- hour: integer (nullable = true)\n",
      "\n"
     ]
    }
   ],
   "source": [
    "test_df.show(5)\n",
    "test_df.printSchema()"
   ]
  },
  {
   "cell_type": "code",
   "execution_count": 358,
   "metadata": {},
   "outputs": [],
   "source": [
    "features_test = test_df.select('*').toPandas()"
   ]
  },
  {
   "cell_type": "code",
   "execution_count": 364,
   "metadata": {},
   "outputs": [
    {
     "data": {
      "text/plain": [
       "ID                              879\n",
       "Date                            879\n",
       "Temperature                     879\n",
       "Humidity                        879\n",
       "Operator                        879\n",
       "Measure1                        879\n",
       "Measure2                        879\n",
       "Measure3                        879\n",
       "Measure4                        879\n",
       "Measure5                        879\n",
       "Measure6                        879\n",
       "Measure7                        879\n",
       "Measure8                        879\n",
       "Measure9                        879\n",
       "Measure10                       879\n",
       "Measure11                       879\n",
       "Measure12                       879\n",
       "Measure13                       879\n",
       "Measure14                       879\n",
       "Measure15                       879\n",
       "Hours Since Previous Failure    879\n",
       "year                            879\n",
       "month                           879\n",
       "day_of_month                    879\n",
       "day_of_week                     879\n",
       "hour                            879\n",
       "dtype: int64"
      ]
     },
     "execution_count": 364,
     "metadata": {},
     "output_type": "execute_result"
    }
   ],
   "source": [
    "features_test.count()"
   ]
  },
  {
   "cell_type": "code",
   "execution_count": 359,
   "metadata": {},
   "outputs": [
    {
     "ename": "KeyError",
     "evalue": "'Failure'",
     "output_type": "error",
     "traceback": [
      "\u001b[0;31m---------------------------------------------------------------------------\u001b[0m",
      "\u001b[0;31mKeyError\u001b[0m                                  Traceback (most recent call last)",
      "\u001b[0;32m/opt/conda/lib/python3.8/site-packages/pandas/core/indexes/base.py\u001b[0m in \u001b[0;36mget_loc\u001b[0;34m(self, key, method, tolerance)\u001b[0m\n\u001b[1;32m   2894\u001b[0m             \u001b[0;32mtry\u001b[0m\u001b[0;34m:\u001b[0m\u001b[0;34m\u001b[0m\u001b[0;34m\u001b[0m\u001b[0m\n\u001b[0;32m-> 2895\u001b[0;31m                 \u001b[0;32mreturn\u001b[0m \u001b[0mself\u001b[0m\u001b[0;34m.\u001b[0m\u001b[0m_engine\u001b[0m\u001b[0;34m.\u001b[0m\u001b[0mget_loc\u001b[0m\u001b[0;34m(\u001b[0m\u001b[0mcasted_key\u001b[0m\u001b[0;34m)\u001b[0m\u001b[0;34m\u001b[0m\u001b[0;34m\u001b[0m\u001b[0m\n\u001b[0m\u001b[1;32m   2896\u001b[0m             \u001b[0;32mexcept\u001b[0m \u001b[0mKeyError\u001b[0m \u001b[0;32mas\u001b[0m \u001b[0merr\u001b[0m\u001b[0;34m:\u001b[0m\u001b[0;34m\u001b[0m\u001b[0;34m\u001b[0m\u001b[0m\n",
      "\u001b[0;32mpandas/_libs/index.pyx\u001b[0m in \u001b[0;36mpandas._libs.index.IndexEngine.get_loc\u001b[0;34m()\u001b[0m\n",
      "\u001b[0;32mpandas/_libs/index.pyx\u001b[0m in \u001b[0;36mpandas._libs.index.IndexEngine.get_loc\u001b[0;34m()\u001b[0m\n",
      "\u001b[0;32mpandas/_libs/hashtable_class_helper.pxi\u001b[0m in \u001b[0;36mpandas._libs.hashtable.PyObjectHashTable.get_item\u001b[0;34m()\u001b[0m\n",
      "\u001b[0;32mpandas/_libs/hashtable_class_helper.pxi\u001b[0m in \u001b[0;36mpandas._libs.hashtable.PyObjectHashTable.get_item\u001b[0;34m()\u001b[0m\n",
      "\u001b[0;31mKeyError\u001b[0m: 'Failure'",
      "\nThe above exception was the direct cause of the following exception:\n",
      "\u001b[0;31mKeyError\u001b[0m                                  Traceback (most recent call last)",
      "\u001b[0;32m<ipython-input-359-607f65b89673>\u001b[0m in \u001b[0;36m<module>\u001b[0;34m\u001b[0m\n\u001b[1;32m      1\u001b[0m \u001b[0moperators\u001b[0m \u001b[0;34m=\u001b[0m \u001b[0mpd\u001b[0m\u001b[0;34m.\u001b[0m\u001b[0mget_dummies\u001b[0m\u001b[0;34m(\u001b[0m\u001b[0mfeatures_test\u001b[0m\u001b[0;34m[\u001b[0m\u001b[0;34m'Operator'\u001b[0m\u001b[0;34m]\u001b[0m\u001b[0;34m)\u001b[0m\u001b[0;34m\u001b[0m\u001b[0;34m\u001b[0m\u001b[0m\n\u001b[0;32m----> 2\u001b[0;31m \u001b[0mfail\u001b[0m \u001b[0;34m=\u001b[0m \u001b[0mpd\u001b[0m\u001b[0;34m.\u001b[0m\u001b[0mget_dummies\u001b[0m\u001b[0;34m(\u001b[0m\u001b[0mfeatures_test\u001b[0m\u001b[0;34m[\u001b[0m\u001b[0;34m'Failure'\u001b[0m\u001b[0;34m]\u001b[0m\u001b[0;34m)\u001b[0m\u001b[0;34m\u001b[0m\u001b[0;34m\u001b[0m\u001b[0m\n\u001b[0m",
      "\u001b[0;32m/opt/conda/lib/python3.8/site-packages/pandas/core/frame.py\u001b[0m in \u001b[0;36m__getitem__\u001b[0;34m(self, key)\u001b[0m\n\u001b[1;32m   2900\u001b[0m             \u001b[0;32mif\u001b[0m \u001b[0mself\u001b[0m\u001b[0;34m.\u001b[0m\u001b[0mcolumns\u001b[0m\u001b[0;34m.\u001b[0m\u001b[0mnlevels\u001b[0m \u001b[0;34m>\u001b[0m \u001b[0;36m1\u001b[0m\u001b[0;34m:\u001b[0m\u001b[0;34m\u001b[0m\u001b[0;34m\u001b[0m\u001b[0m\n\u001b[1;32m   2901\u001b[0m                 \u001b[0;32mreturn\u001b[0m \u001b[0mself\u001b[0m\u001b[0;34m.\u001b[0m\u001b[0m_getitem_multilevel\u001b[0m\u001b[0;34m(\u001b[0m\u001b[0mkey\u001b[0m\u001b[0;34m)\u001b[0m\u001b[0;34m\u001b[0m\u001b[0;34m\u001b[0m\u001b[0m\n\u001b[0;32m-> 2902\u001b[0;31m             \u001b[0mindexer\u001b[0m \u001b[0;34m=\u001b[0m \u001b[0mself\u001b[0m\u001b[0;34m.\u001b[0m\u001b[0mcolumns\u001b[0m\u001b[0;34m.\u001b[0m\u001b[0mget_loc\u001b[0m\u001b[0;34m(\u001b[0m\u001b[0mkey\u001b[0m\u001b[0;34m)\u001b[0m\u001b[0;34m\u001b[0m\u001b[0;34m\u001b[0m\u001b[0m\n\u001b[0m\u001b[1;32m   2903\u001b[0m             \u001b[0;32mif\u001b[0m \u001b[0mis_integer\u001b[0m\u001b[0;34m(\u001b[0m\u001b[0mindexer\u001b[0m\u001b[0;34m)\u001b[0m\u001b[0;34m:\u001b[0m\u001b[0;34m\u001b[0m\u001b[0;34m\u001b[0m\u001b[0m\n\u001b[1;32m   2904\u001b[0m                 \u001b[0mindexer\u001b[0m \u001b[0;34m=\u001b[0m \u001b[0;34m[\u001b[0m\u001b[0mindexer\u001b[0m\u001b[0;34m]\u001b[0m\u001b[0;34m\u001b[0m\u001b[0;34m\u001b[0m\u001b[0m\n",
      "\u001b[0;32m/opt/conda/lib/python3.8/site-packages/pandas/core/indexes/base.py\u001b[0m in \u001b[0;36mget_loc\u001b[0;34m(self, key, method, tolerance)\u001b[0m\n\u001b[1;32m   2895\u001b[0m                 \u001b[0;32mreturn\u001b[0m \u001b[0mself\u001b[0m\u001b[0;34m.\u001b[0m\u001b[0m_engine\u001b[0m\u001b[0;34m.\u001b[0m\u001b[0mget_loc\u001b[0m\u001b[0;34m(\u001b[0m\u001b[0mcasted_key\u001b[0m\u001b[0;34m)\u001b[0m\u001b[0;34m\u001b[0m\u001b[0;34m\u001b[0m\u001b[0m\n\u001b[1;32m   2896\u001b[0m             \u001b[0;32mexcept\u001b[0m \u001b[0mKeyError\u001b[0m \u001b[0;32mas\u001b[0m \u001b[0merr\u001b[0m\u001b[0;34m:\u001b[0m\u001b[0;34m\u001b[0m\u001b[0;34m\u001b[0m\u001b[0m\n\u001b[0;32m-> 2897\u001b[0;31m                 \u001b[0;32mraise\u001b[0m \u001b[0mKeyError\u001b[0m\u001b[0;34m(\u001b[0m\u001b[0mkey\u001b[0m\u001b[0;34m)\u001b[0m \u001b[0;32mfrom\u001b[0m \u001b[0merr\u001b[0m\u001b[0;34m\u001b[0m\u001b[0;34m\u001b[0m\u001b[0m\n\u001b[0m\u001b[1;32m   2898\u001b[0m \u001b[0;34m\u001b[0m\u001b[0m\n\u001b[1;32m   2899\u001b[0m         \u001b[0;32mif\u001b[0m \u001b[0mtolerance\u001b[0m \u001b[0;32mis\u001b[0m \u001b[0;32mnot\u001b[0m \u001b[0;32mNone\u001b[0m\u001b[0;34m:\u001b[0m\u001b[0;34m\u001b[0m\u001b[0;34m\u001b[0m\u001b[0m\n",
      "\u001b[0;31mKeyError\u001b[0m: 'Failure'"
     ]
    }
   ],
   "source": [
    "operators = pd.get_dummies(features_test['Operator'])\n",
    "fail = pd.get_dummies(features_test['Failure'])"
   ]
  },
  {
   "cell_type": "code",
   "execution_count": null,
   "metadata": {},
   "outputs": [],
   "source": [
    "for oper in operators.columns:\n",
    "    features[oper] = operators[oper]\n",
    "    \n",
    "features = features.drop(['Operator', 'Date', 'ID'], axis=1)\n",
    "features['Failure'] = fail"
   ]
  },
  {
   "cell_type": "code",
   "execution_count": null,
   "metadata": {},
   "outputs": [],
   "source": []
  },
  {
   "cell_type": "code",
   "execution_count": null,
   "metadata": {},
   "outputs": [],
   "source": []
  },
  {
   "cell_type": "code",
   "execution_count": 195,
   "metadata": {},
   "outputs": [],
   "source": [
    "test_df_pd = test_df.select('*').toPandas()"
   ]
  },
  {
   "cell_type": "code",
   "execution_count": 197,
   "metadata": {},
   "outputs": [
    {
     "data": {
      "text/html": [
       "<div>\n",
       "<style scoped>\n",
       "    .dataframe tbody tr th:only-of-type {\n",
       "        vertical-align: middle;\n",
       "    }\n",
       "\n",
       "    .dataframe tbody tr th {\n",
       "        vertical-align: top;\n",
       "    }\n",
       "\n",
       "    .dataframe thead th {\n",
       "        text-align: right;\n",
       "    }\n",
       "</style>\n",
       "<table border=\"1\" class=\"dataframe\">\n",
       "  <thead>\n",
       "    <tr style=\"text-align: right;\">\n",
       "      <th></th>\n",
       "      <th>ID</th>\n",
       "      <th>Date</th>\n",
       "      <th>Temperature</th>\n",
       "      <th>Humidity</th>\n",
       "      <th>Operator</th>\n",
       "      <th>Measure1</th>\n",
       "      <th>Measure2</th>\n",
       "      <th>Measure3</th>\n",
       "      <th>Measure4</th>\n",
       "      <th>Measure5</th>\n",
       "      <th>...</th>\n",
       "      <th>Measure15</th>\n",
       "      <th>Hours Since Previous Failure</th>\n",
       "      <th>Failure</th>\n",
       "      <th>?Date.year</th>\n",
       "      <th>?Date.month</th>\n",
       "      <th>?Date.day-of-month</th>\n",
       "      <th>?Date.day-of-week</th>\n",
       "      <th>?Date.hour</th>\n",
       "      <th>?Date.minute</th>\n",
       "      <th>?Date.second</th>\n",
       "    </tr>\n",
       "  </thead>\n",
       "  <tbody>\n",
       "    <tr>\n",
       "      <th>515</th>\n",
       "      <td>516</td>\n",
       "      <td>22-01-2016 11:00</td>\n",
       "      <td>71</td>\n",
       "      <td>65</td>\n",
       "      <td>Operator3</td>\n",
       "      <td>576</td>\n",
       "      <td>0</td>\n",
       "      <td>0</td>\n",
       "      <td>1074</td>\n",
       "      <td>1568</td>\n",
       "      <td>...</td>\n",
       "      <td>1821</td>\n",
       "      <td>367</td>\n",
       "      <td>Yes</td>\n",
       "      <td>2016</td>\n",
       "      <td>1</td>\n",
       "      <td>22</td>\n",
       "      <td>5</td>\n",
       "      <td>11</td>\n",
       "      <td>0</td>\n",
       "      <td>0</td>\n",
       "    </tr>\n",
       "    <tr>\n",
       "      <th>516</th>\n",
       "      <td>517</td>\n",
       "      <td>22-01-2016 12:00</td>\n",
       "      <td>72</td>\n",
       "      <td>67</td>\n",
       "      <td>Operator3</td>\n",
       "      <td>935</td>\n",
       "      <td>3</td>\n",
       "      <td>0</td>\n",
       "      <td>1228</td>\n",
       "      <td>1226</td>\n",
       "      <td>...</td>\n",
       "      <td>452</td>\n",
       "      <td>1</td>\n",
       "      <td>Yes</td>\n",
       "      <td>2016</td>\n",
       "      <td>1</td>\n",
       "      <td>22</td>\n",
       "      <td>5</td>\n",
       "      <td>12</td>\n",
       "      <td>0</td>\n",
       "      <td>0</td>\n",
       "    </tr>\n",
       "    <tr>\n",
       "      <th>517</th>\n",
       "      <td>518</td>\n",
       "      <td>22-01-2016 13:00</td>\n",
       "      <td>70</td>\n",
       "      <td>68</td>\n",
       "      <td>Operator3</td>\n",
       "      <td>1479</td>\n",
       "      <td>0</td>\n",
       "      <td>1</td>\n",
       "      <td>738</td>\n",
       "      <td>1686</td>\n",
       "      <td>...</td>\n",
       "      <td>1566</td>\n",
       "      <td>1</td>\n",
       "      <td>Yes</td>\n",
       "      <td>2016</td>\n",
       "      <td>1</td>\n",
       "      <td>22</td>\n",
       "      <td>5</td>\n",
       "      <td>13</td>\n",
       "      <td>0</td>\n",
       "      <td>0</td>\n",
       "    </tr>\n",
       "    <tr>\n",
       "      <th>667</th>\n",
       "      <td>668</td>\n",
       "      <td>28-01-2016 19:00</td>\n",
       "      <td>66</td>\n",
       "      <td>81</td>\n",
       "      <td>Operator5</td>\n",
       "      <td>1484</td>\n",
       "      <td>2</td>\n",
       "      <td>2</td>\n",
       "      <td>1174</td>\n",
       "      <td>1362</td>\n",
       "      <td>...</td>\n",
       "      <td>953</td>\n",
       "      <td>150</td>\n",
       "      <td>Yes</td>\n",
       "      <td>2016</td>\n",
       "      <td>1</td>\n",
       "      <td>28</td>\n",
       "      <td>4</td>\n",
       "      <td>19</td>\n",
       "      <td>0</td>\n",
       "      <td>0</td>\n",
       "    </tr>\n",
       "    <tr>\n",
       "      <th>1038</th>\n",
       "      <td>1039</td>\n",
       "      <td>13-02-2016 06:00</td>\n",
       "      <td>65</td>\n",
       "      <td>82</td>\n",
       "      <td>Operator2</td>\n",
       "      <td>1912</td>\n",
       "      <td>2</td>\n",
       "      <td>1</td>\n",
       "      <td>1343</td>\n",
       "      <td>1852</td>\n",
       "      <td>...</td>\n",
       "      <td>1914</td>\n",
       "      <td>371</td>\n",
       "      <td>Yes</td>\n",
       "      <td>2016</td>\n",
       "      <td>2</td>\n",
       "      <td>13</td>\n",
       "      <td>6</td>\n",
       "      <td>6</td>\n",
       "      <td>0</td>\n",
       "      <td>0</td>\n",
       "    </tr>\n",
       "  </tbody>\n",
       "</table>\n",
       "<p>5 rows × 29 columns</p>\n",
       "</div>"
      ],
      "text/plain": [
       "        ID              Date  Temperature  Humidity   Operator  Measure1  \\\n",
       "515    516  22-01-2016 11:00           71        65  Operator3       576   \n",
       "516    517  22-01-2016 12:00           72        67  Operator3       935   \n",
       "517    518  22-01-2016 13:00           70        68  Operator3      1479   \n",
       "667    668  28-01-2016 19:00           66        81  Operator5      1484   \n",
       "1038  1039  13-02-2016 06:00           65        82  Operator2      1912   \n",
       "\n",
       "      Measure2  Measure3  Measure4  Measure5  ...  Measure15  \\\n",
       "515          0         0      1074      1568  ...       1821   \n",
       "516          3         0      1228      1226  ...        452   \n",
       "517          0         1       738      1686  ...       1566   \n",
       "667          2         2      1174      1362  ...        953   \n",
       "1038         2         1      1343      1852  ...       1914   \n",
       "\n",
       "      Hours Since Previous Failure  Failure  ?Date.year  ?Date.month  \\\n",
       "515                            367      Yes        2016            1   \n",
       "516                              1      Yes        2016            1   \n",
       "517                              1      Yes        2016            1   \n",
       "667                            150      Yes        2016            1   \n",
       "1038                           371      Yes        2016            2   \n",
       "\n",
       "      ?Date.day-of-month  ?Date.day-of-week  ?Date.hour  ?Date.minute  \\\n",
       "515                   22                  5          11             0   \n",
       "516                   22                  5          12             0   \n",
       "517                   22                  5          13             0   \n",
       "667                   28                  4          19             0   \n",
       "1038                  13                  6           6             0   \n",
       "\n",
       "      ?Date.second  \n",
       "515              0  \n",
       "516              0  \n",
       "517              0  \n",
       "667              0  \n",
       "1038             0  \n",
       "\n",
       "[5 rows x 29 columns]"
      ]
     },
     "execution_count": 197,
     "metadata": {},
     "output_type": "execute_result"
    }
   ],
   "source": [
    "failure_df[failure_df['?Date.day-of-month'] > 9].head()"
   ]
  },
  {
   "cell_type": "code",
   "execution_count": 208,
   "metadata": {},
   "outputs": [
    {
     "data": {
      "text/plain": [
       "DataFrame[ID: string, Date: string, Temperature: string, Humidity: string, Operator: string, Measure1: string, Measure2: string, Measure3: string, Measure4: string, Measure5: string, Measure6: string, Measure7: string, Measure8: string, Measure9: string, Measure10: string, Measure11: string, Measure12: string, Measure13: string, Measure14: string, Measure15: string, Hours Since Previous Failure: string, Failure: string, ?Date.year: string, ?Date.month: string, ?Date.day-of-month: string, ?Date.day-of-week: string, ?Date.hour: string, ?Date.minute: string, ?Date.second: string]"
      ]
     },
     "execution_count": 208,
     "metadata": {},
     "output_type": "execute_result"
    }
   ],
   "source": [
    "test_df"
   ]
  },
  {
   "cell_type": "code",
   "execution_count": 180,
   "metadata": {},
   "outputs": [
    {
     "name": "stdout",
     "output_type": "stream",
     "text": [
      "<class 'pandas.core.frame.DataFrame'>\n",
      "RangeIndex: 7905 entries, 0 to 7904\n",
      "Data columns (total 29 columns):\n",
      " #   Column                        Non-Null Count  Dtype \n",
      "---  ------                        --------------  ----- \n",
      " 0   ID                            7905 non-null   int64 \n",
      " 1   Date                          7905 non-null   object\n",
      " 2   Temperature                   7905 non-null   int64 \n",
      " 3   Humidity                      7905 non-null   int64 \n",
      " 4   Operator                      7905 non-null   object\n",
      " 5   Measure1                      7905 non-null   int64 \n",
      " 6   Measure2                      7905 non-null   int64 \n",
      " 7   Measure3                      7905 non-null   int64 \n",
      " 8   Measure4                      7905 non-null   int64 \n",
      " 9   Measure5                      7905 non-null   int64 \n",
      " 10  Measure6                      7905 non-null   int64 \n",
      " 11  Measure7                      7905 non-null   int64 \n",
      " 12  Measure8                      7905 non-null   int64 \n",
      " 13  Measure9                      7905 non-null   int64 \n",
      " 14  Measure10                     7905 non-null   int64 \n",
      " 15  Measure11                     7905 non-null   int64 \n",
      " 16  Measure12                     7905 non-null   int64 \n",
      " 17  Measure13                     7905 non-null   int64 \n",
      " 18  Measure14                     7905 non-null   int64 \n",
      " 19  Measure15                     7905 non-null   int64 \n",
      " 20  Hours Since Previous Failure  7905 non-null   int64 \n",
      " 21  Failure                       7905 non-null   object\n",
      " 22  ?Date.year                    7905 non-null   int64 \n",
      " 23  ?Date.month                   7905 non-null   int64 \n",
      " 24  ?Date.day-of-month            7905 non-null   int64 \n",
      " 25  ?Date.day-of-week             7905 non-null   int64 \n",
      " 26  ?Date.hour                    7905 non-null   int64 \n",
      " 27  ?Date.minute                  7905 non-null   int64 \n",
      " 28  ?Date.second                  7905 non-null   int64 \n",
      "dtypes: int64(26), object(3)\n",
      "memory usage: 1.7+ MB\n"
     ]
    }
   ],
   "source": [
    "## change objects to ints\n",
    "numerics = test_df_pd.drop(columns=['Date', 'Operator', 'Failure'])\n",
    "numerics = numerics.apply(pd.to_numeric, errors='coerce')\n",
    "test_df_pd[numerics.columns] = numerics\n",
    "test_df_pd.head()\n",
    "test_df_pd.info()"
   ]
  },
  {
   "cell_type": "code",
   "execution_count": 183,
   "metadata": {},
   "outputs": [
    {
     "name": "stdout",
     "output_type": "stream",
     "text": [
      "<class 'pandas.core.frame.DataFrame'>\n",
      "Int64Index: 75 entries, 148 to 7514\n",
      "Data columns (total 29 columns):\n",
      " #   Column                        Non-Null Count  Dtype \n",
      "---  ------                        --------------  ----- \n",
      " 0   ID                            75 non-null     int64 \n",
      " 1   Date                          75 non-null     object\n",
      " 2   Temperature                   75 non-null     int64 \n",
      " 3   Humidity                      75 non-null     int64 \n",
      " 4   Operator                      75 non-null     object\n",
      " 5   Measure1                      75 non-null     int64 \n",
      " 6   Measure2                      75 non-null     int64 \n",
      " 7   Measure3                      75 non-null     int64 \n",
      " 8   Measure4                      75 non-null     int64 \n",
      " 9   Measure5                      75 non-null     int64 \n",
      " 10  Measure6                      75 non-null     int64 \n",
      " 11  Measure7                      75 non-null     int64 \n",
      " 12  Measure8                      75 non-null     int64 \n",
      " 13  Measure9                      75 non-null     int64 \n",
      " 14  Measure10                     75 non-null     int64 \n",
      " 15  Measure11                     75 non-null     int64 \n",
      " 16  Measure12                     75 non-null     int64 \n",
      " 17  Measure13                     75 non-null     int64 \n",
      " 18  Measure14                     75 non-null     int64 \n",
      " 19  Measure15                     75 non-null     int64 \n",
      " 20  Hours Since Previous Failure  75 non-null     int64 \n",
      " 21  Failure                       75 non-null     object\n",
      " 22  ?Date.year                    75 non-null     int64 \n",
      " 23  ?Date.month                   75 non-null     int64 \n",
      " 24  ?Date.day-of-month            75 non-null     int64 \n",
      " 25  ?Date.day-of-week             75 non-null     int64 \n",
      " 26  ?Date.hour                    75 non-null     int64 \n",
      " 27  ?Date.minute                  75 non-null     int64 \n",
      " 28  ?Date.second                  75 non-null     int64 \n",
      "dtypes: int64(26), object(3)\n",
      "memory usage: 17.6+ KB\n"
     ]
    }
   ],
   "source": [
    "failure_df = test_df_pd[test_df_pd['Failure'] == 'Yes']\n",
    "failure_df = failure_df.dropna(how='any')\n",
    "failure_df.info()\n",
    "# test_df_pd[test_df_pd['Failure'] == 'Yes'].info()"
   ]
  },
  {
   "cell_type": "markdown",
   "metadata": {},
   "source": [
    "## Scatter matrix to check out relationships"
   ]
  },
  {
   "cell_type": "code",
   "execution_count": 189,
   "metadata": {},
   "outputs": [
    {
     "data": {
      "image/png": "[encoded data removed]",
      "text/plain": [
       "<Figure size 1080x720 with 25 Axes>"
      ]
     },
     "metadata": {
      "needs_background": "light"
     },
     "output_type": "display_data"
    }
   ],
   "source": [
    "from matplotlib import gridspec\n",
    "\n",
    "data_to_scatter = failure_df[['Temperature', 'Humidity', '?Date.month', '?Date.day-of-week', '?Date.hour']]\n",
    "#'?Date.month', '?Date.day-of-week', '?Date.hour'\n",
    "pd.plotting.scatter_matrix(data_to_scatter, alpha=0.5, figsize=(15,10))\n",
    "plt.show();"
   ]
  },
  {
   "cell_type": "markdown",
   "metadata": {},
   "source": [
    "Looking at the Date.hour/Date.day-of-the-week, it looks like failures are happening in distinct clusters of hours. \n",
    "\n",
    "Maybe a machine is more likely to fail it just previously failed?\n",
    "\n",
    "### Let's check it out"
   ]
  },
  {
   "cell_type": "code",
   "execution_count": null,
   "metadata": {},
   "outputs": [],
   "source": []
  },
  {
   "cell_type": "code",
   "execution_count": null,
   "metadata": {},
   "outputs": [],
   "source": []
  },
  {
   "cell_type": "code",
   "execution_count": null,
   "metadata": {},
   "outputs": [],
   "source": []
  },
  {
   "cell_type": "code",
   "execution_count": 178,
   "metadata": {},
   "outputs": [
    {
     "name": "stdout",
     "output_type": "stream",
     "text": [
      "<class 'pandas.core.frame.DataFrame'>\n",
      "Int64Index: 5 entries, 148 to 667\n",
      "Data columns (total 2 columns):\n",
      " #   Column       Non-Null Count  Dtype \n",
      "---  ------       --------------  ----- \n",
      " 0   Temperature  5 non-null      object\n",
      " 1   Humidity     5 non-null      object\n",
      "dtypes: object(2)\n",
      "memory usage: 120.0+ bytes\n"
     ]
    }
   ],
   "source": [
    "failure_df[['Temperature', 'Humidity']][:5].info()"
   ]
  },
  {
   "cell_type": "code",
   "execution_count": 134,
   "metadata": {},
   "outputs": [
    {
     "data": {
      "text/html": [
       "<div>\n",
       "<style scoped>\n",
       "    .dataframe tbody tr th:only-of-type {\n",
       "        vertical-align: middle;\n",
       "    }\n",
       "\n",
       "    .dataframe tbody tr th {\n",
       "        vertical-align: top;\n",
       "    }\n",
       "\n",
       "    .dataframe thead th {\n",
       "        text-align: right;\n",
       "    }\n",
       "</style>\n",
       "<table border=\"1\" class=\"dataframe\">\n",
       "  <thead>\n",
       "    <tr style=\"text-align: right;\">\n",
       "      <th></th>\n",
       "      <th>Temperature</th>\n",
       "      <th>Humidity</th>\n",
       "      <th>?Date.month</th>\n",
       "      <th>?Date.day-of-week</th>\n",
       "      <th>?Date.hour</th>\n",
       "    </tr>\n",
       "  </thead>\n",
       "  <tbody>\n",
       "    <tr>\n",
       "      <th>148</th>\n",
       "      <td>63</td>\n",
       "      <td>85</td>\n",
       "      <td>1</td>\n",
       "      <td>4</td>\n",
       "      <td>4</td>\n",
       "    </tr>\n",
       "    <tr>\n",
       "      <th>515</th>\n",
       "      <td>71</td>\n",
       "      <td>65</td>\n",
       "      <td>1</td>\n",
       "      <td>5</td>\n",
       "      <td>11</td>\n",
       "    </tr>\n",
       "    <tr>\n",
       "      <th>516</th>\n",
       "      <td>72</td>\n",
       "      <td>67</td>\n",
       "      <td>1</td>\n",
       "      <td>5</td>\n",
       "      <td>12</td>\n",
       "    </tr>\n",
       "    <tr>\n",
       "      <th>517</th>\n",
       "      <td>70</td>\n",
       "      <td>68</td>\n",
       "      <td>1</td>\n",
       "      <td>5</td>\n",
       "      <td>13</td>\n",
       "    </tr>\n",
       "    <tr>\n",
       "      <th>667</th>\n",
       "      <td>66</td>\n",
       "      <td>81</td>\n",
       "      <td>1</td>\n",
       "      <td>4</td>\n",
       "      <td>19</td>\n",
       "    </tr>\n",
       "  </tbody>\n",
       "</table>\n",
       "</div>"
      ],
      "text/plain": [
       "    Temperature Humidity ?Date.month ?Date.day-of-week ?Date.hour\n",
       "148          63       85           1                 4          4\n",
       "515          71       65           1                 5         11\n",
       "516          72       67           1                 5         12\n",
       "517          70       68           1                 5         13\n",
       "667          66       81           1                 4         19"
      ]
     },
     "execution_count": 134,
     "metadata": {},
     "output_type": "execute_result"
    }
   ],
   "source": [
    "data_to_scatter.head()"
   ]
  },
  {
   "cell_type": "code",
   "execution_count": 140,
   "metadata": {},
   "outputs": [
    {
     "data": {
      "text/html": [
       "<div>\n",
       "<style scoped>\n",
       "    .dataframe tbody tr th:only-of-type {\n",
       "        vertical-align: middle;\n",
       "    }\n",
       "\n",
       "    .dataframe tbody tr th {\n",
       "        vertical-align: top;\n",
       "    }\n",
       "\n",
       "    .dataframe thead th {\n",
       "        text-align: right;\n",
       "    }\n",
       "</style>\n",
       "<table border=\"1\" class=\"dataframe\">\n",
       "  <thead>\n",
       "    <tr style=\"text-align: right;\">\n",
       "      <th></th>\n",
       "      <th>Temperature</th>\n",
       "      <th>Humidity</th>\n",
       "    </tr>\n",
       "  </thead>\n",
       "  <tbody>\n",
       "    <tr>\n",
       "      <th>148</th>\n",
       "      <td>63</td>\n",
       "      <td>85</td>\n",
       "    </tr>\n",
       "    <tr>\n",
       "      <th>515</th>\n",
       "      <td>71</td>\n",
       "      <td>65</td>\n",
       "    </tr>\n",
       "    <tr>\n",
       "      <th>516</th>\n",
       "      <td>72</td>\n",
       "      <td>67</td>\n",
       "    </tr>\n",
       "    <tr>\n",
       "      <th>517</th>\n",
       "      <td>70</td>\n",
       "      <td>68</td>\n",
       "    </tr>\n",
       "    <tr>\n",
       "      <th>667</th>\n",
       "      <td>66</td>\n",
       "      <td>81</td>\n",
       "    </tr>\n",
       "  </tbody>\n",
       "</table>\n",
       "</div>"
      ],
      "text/plain": [
       "    Temperature Humidity\n",
       "148          63       85\n",
       "515          71       65\n",
       "516          72       67\n",
       "517          70       68\n",
       "667          66       81"
      ]
     },
     "execution_count": 140,
     "metadata": {},
     "output_type": "execute_result"
    }
   ],
   "source": [
    "data_to_scatter.head()"
   ]
  },
  {
   "cell_type": "markdown",
   "metadata": {},
   "source": [
    "## Let's check out how good these operators are"
   ]
  },
  {
   "cell_type": "code",
   "execution_count": 102,
   "metadata": {},
   "outputs": [
    {
     "data": {
      "text/html": [
       "<div>\n",
       "<style scoped>\n",
       "    .dataframe tbody tr th:only-of-type {\n",
       "        vertical-align: middle;\n",
       "    }\n",
       "\n",
       "    .dataframe tbody tr th {\n",
       "        vertical-align: top;\n",
       "    }\n",
       "\n",
       "    .dataframe thead th {\n",
       "        text-align: right;\n",
       "    }\n",
       "</style>\n",
       "<table border=\"1\" class=\"dataframe\">\n",
       "  <thead>\n",
       "    <tr style=\"text-align: right;\">\n",
       "      <th></th>\n",
       "      <th>Operator</th>\n",
       "      <th>Failure</th>\n",
       "    </tr>\n",
       "  </thead>\n",
       "  <tbody>\n",
       "    <tr>\n",
       "      <th>0</th>\n",
       "      <td>Operator1</td>\n",
       "      <td>No</td>\n",
       "    </tr>\n",
       "    <tr>\n",
       "      <th>1</th>\n",
       "      <td>Operator1</td>\n",
       "      <td>No</td>\n",
       "    </tr>\n",
       "    <tr>\n",
       "      <th>2</th>\n",
       "      <td>Operator1</td>\n",
       "      <td>No</td>\n",
       "    </tr>\n",
       "    <tr>\n",
       "      <th>3</th>\n",
       "      <td>Operator1</td>\n",
       "      <td>No</td>\n",
       "    </tr>\n",
       "    <tr>\n",
       "      <th>4</th>\n",
       "      <td>Operator1</td>\n",
       "      <td>No</td>\n",
       "    </tr>\n",
       "  </tbody>\n",
       "</table>\n",
       "</div>"
      ],
      "text/plain": [
       "    Operator Failure\n",
       "0  Operator1      No\n",
       "1  Operator1      No\n",
       "2  Operator1      No\n",
       "3  Operator1      No\n",
       "4  Operator1      No"
      ]
     },
     "execution_count": 102,
     "metadata": {},
     "output_type": "execute_result"
    }
   ],
   "source": [
    "# Convert the Spark DataFrame back to a Pandas DataFrame using Arrow\n",
    "operators_df = test_df.select(\"Operator\", 'Failure').toPandas()\n",
    "operators_df.head()"
   ]
  },
  {
   "cell_type": "code",
   "execution_count": 121,
   "metadata": {},
   "outputs": [
    {
     "data": {
      "text/plain": [
       "Text(0.5, 1.0, 'Failure Rate per Operator')"
      ]
     },
     "execution_count": 121,
     "metadata": {},
     "output_type": "execute_result"
    },
    {
     "data": {
      "image/png": "[encoded data removed]",
      "text/plain": [
       "<Figure size 720x576 with 1 Axes>"
      ]
     },
     "metadata": {
      "needs_background": "light"
     },
     "output_type": "display_data"
    }
   ],
   "source": [
    "operators_df[operators_df['Failure'] == 'Yes']\n",
    "op_fail_df = operators_df.groupby('Operator').agg('count')\n",
    "op_fail_df['num'] = operators_df[operators_df['Failure'] == 'Yes'].groupby('Operator').agg('count')\n",
    "op_fail_df['fail_rate'] = op_fail_df['num'] / op_fail_df['Failure']\n",
    "op_fail_df\n",
    "# operators_df.head()\n",
    "\n",
    "fig, ax = plt.subplots(figsize=(10,8))\n",
    "ax.barh(op_fail_df.index, op_fail_df['fail_rate'])\n",
    "ax.set_xlabel('Failure Rate')\n",
    "ax.set_ylabel('Operator')\n",
    "ax.set_title('Failure Rate per Operator')"
   ]
  },
  {
   "cell_type": "code",
   "execution_count": 115,
   "metadata": {},
   "outputs": [
    {
     "data": {
      "text/plain": [
       "Text(0.5, 1.0, 'Failure Rate per Operator')"
      ]
     },
     "execution_count": 115,
     "metadata": {},
     "output_type": "execute_result"
    },
    {
     "data": {
      "image/png": "[encoded data removed]",
      "text/plain": [
       "<Figure size 720x576 with 1 Axes>"
      ]
     },
     "metadata": {
      "needs_background": "light"
     },
     "output_type": "display_data"
    }
   ],
   "source": [
    "fig, ax = plt.subplots(figsize=(10,8))\n",
    "ax.barh(op_fail_df.index, op_fail_df['fail_rate'])\n",
    "ax.set_xlabel('Failure Rate')\n",
    "ax.set_ylabel('Operator')\n",
    "ax.set_title('Failure Rate per Operator')"
   ]
  },
  {
   "cell_type": "code",
   "execution_count": 60,
   "metadata": {},
   "outputs": [
    {
     "data": {
      "text/plain": [
       "Operator    880\n",
       "dtype: int64"
      ]
     },
     "execution_count": 60,
     "metadata": {},
     "output_type": "execute_result"
    }
   ],
   "source": [
    "operators_df[operators_df['Operator'] == 'Operator1'].count()"
   ]
  },
  {
   "cell_type": "code",
   "execution_count": null,
   "metadata": {},
   "outputs": [],
   "source": [
    "##"
   ]
  }
 ],
 "metadata": {
  "kernelspec": {
   "display_name": "Python 3",
   "language": "python",
   "name": "python3"
  },
  "language_info": {
   "codemirror_mode": {
    "name": "ipython",
    "version": 3
   },
   "file_extension": ".py",
   "mimetype": "text/x-python",
   "name": "python",
   "nbconvert_exporter": "python",
   "pygments_lexer": "ipython3",
   "version": "3.8.6"
  }
 },
 "nbformat": 4,
 "nbformat_minor": 4
}
